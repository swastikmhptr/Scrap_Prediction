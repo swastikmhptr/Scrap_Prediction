{
 "cells": [
  {
   "cell_type": "markdown",
   "metadata": {
    "colab_type": "text",
    "id": "ssYTWt5PR5_4"
   },
   "source": [
    "## Scrap Batch Prediction##"
   ]
  },
  {
   "cell_type": "markdown",
   "metadata": {
    "colab_type": "text",
    "id": "YR_NAo_S4rmz"
   },
   "source": [
    "**Libraries used:-**\n",
    "- numpy is the fundamental package for scientific computing with Python.\n",
    "- matplotlib is a famous library to plot graphs in Python.\n",
    "- Pandas is used to extract and work with the data\n"
   ]
  },
  {
   "cell_type": "code",
   "execution_count": 0,
   "metadata": {
    "colab": {},
    "colab_type": "code",
    "id": "G6bVIiWIR5_7"
   },
   "outputs": [],
   "source": [
    "import numpy as np\n",
    "import matplotlib.pyplot as plt\n",
    "import math\n",
    "\n",
    "%matplotlib inline"
   ]
  },
  {
   "cell_type": "markdown",
   "metadata": {
    "colab_type": "text",
    "id": "m2y4XWMz5Llu"
   },
   "source": [
    "Loading the data into the notebook"
   ]
  },
  {
   "cell_type": "markdown",
   "metadata": {
    "colab_type": "text",
    "id": "qAdUuOPOnAn9"
   },
   "source": [
    "# Importing the dataset"
   ]
  },
  {
   "cell_type": "code",
   "execution_count": 6,
   "metadata": {
    "colab": {
     "base_uri": "https://localhost:8080/",
     "height": 2176
    },
    "colab_type": "code",
    "id": "1j2wIg-MwYjf",
    "outputId": "b2404d19-800c-4db0-bd03-499eeddeb85d"
   },
   "outputs": [
    {
     "name": "stdout",
     "output_type": "stream",
     "text": [
      "                    OPERATION_PRODUCT OPERATION_ID EMPLOYEE_ID MACHINE_CODE  \\\n",
      "0       F6A01513.BLANK_2_HOLES_PIERCE        O0089      E1036          PP04   \n",
      "1                  F7182114.SPOT_WELD        O0068      E1051          SW01   \n",
      "2                       FA974313.TRIM        O0072      E1036          PP02   \n",
      "3          B0Y17741.BLANK_HOLE_PIERCE        O0095      E1032          PP02   \n",
      "4                       FA974313.FORM        O0041      E1037          PP03   \n",
      "5                 9709090124.3RD_DRAW        O0004       E1046         HP04   \n",
      "6          B0Y17736.BLANK_HOLE_PIERCE        O0095      E1032          PP02   \n",
      "7           9259076592.ROBOT_CO2_WELD        O0060      E1024          ROW2   \n",
      "8           9259076592.ROBOT_CO2_WELD        O0060      E1011          ROW2   \n",
      "9                     100260710.DEBUR        O0026        E057         DB01   \n",
      "10                   100261280.EMBOSS        O0030       E1011         PP13   \n",
      "11      B0Y18702.BLANK_2_HOLES_PIERCE        O0089      E1036          PP04   \n",
      "12                    4721951294.BEND        O0015      E1035          HP02   \n",
      "13                   9259076592.NOTCH        O0051       E1053         NM01   \n",
      "14                9254916692.3RD_DRAW        O0004       E1033         HP03   \n",
      "15          9259076592.ROBOT_CO2_WELD        O0060       E1050         ROW2   \n",
      "16       9254916692.SIDE_HOLES_PIERCE        O0063      E1027          PP04   \n",
      "17                   100261280.EMBOSS        O0030       E1011      PP09-13   \n",
      "18                 100261280.CO2_WELD        O0021       E1059        MIG01   \n",
      "19            B5437304-F2866213.BLANK        O0019      E1031          PP06   \n",
      "20             B5437305-F2866313.FOLD        O0037      E1035          HP02   \n",
      "21           B5437304-F2866213.U_FOLD        O0096      E1029          HP02   \n",
      "22        9254916692.TOP_HOLES_PIERCE        O0070       E057          PP13   \n",
      "23           F1105313-WHEEL_NUT.BLANK        O0019      E1012          PP07   \n",
      "24                      B5433269.FOLD        O0037      E1036          PP06   \n",
      "25                      F2834513.FOLD        O0037      E1047          HP02   \n",
      "26                9253920415.LIP_FORM        O0050      E1011          PP12   \n",
      "27    100260710.9_HOLES_PIERCE_EMBOSS        O0088        E057         PP12   \n",
      "28                 100261520.1ST_DRAW        O0002       E040          HP06   \n",
      "29              9253010242.LEAK_CHECK        O0048       E1054         LM01   \n",
      "...                               ...          ...         ...          ...   \n",
      "1206        9259076592.ROBOT_CO2_WELD        O0060      E1024          ROW2   \n",
      "1207            9259076592.LEAK_CHECK        O0048       E1054         LM01   \n",
      "1208            9259076592.LEAK_CHECK        O0048       E1054         LM01   \n",
      "1209                   100262820.CURL        O0025       E1055        MIG03   \n",
      "1210                   100262820.CURL        O0025       E1055        MIG03   \n",
      "1211               100262820.CO2_WELD        O0021       E1055        MIG04   \n",
      "1212                F6A03113.RIB_FORM        O0132       E1036         PP03   \n",
      "1213      9259076592.TOP_HOLES_PIERCE        O0070        E057      PP09-13   \n",
      "1214      9259076592.TOP_HOLES_PIERCE        O0070        E057      PP09-13   \n",
      "1215                B0Y04718.CO2_WELD        O0021       E1056        MIG05   \n",
      "1216                 9701910114.BLANK        O0019       E1024         BL01   \n",
      "1217   3700510002-3700510004.1ST_DRAW        O0002        E040         HP04   \n",
      "1218   3700510002-3700510004.1ST_DRAW        O0002        E040         HP04   \n",
      "1219   3700510002-3700510004.TOP_FORM        O0069        E039         HP03   \n",
      "1220   3700510002-3700510004.TOP_FORM        O0069        E039         HP03   \n",
      "1221   3700510002-3700510004.TOP_FORM        O0069        E039         HP03   \n",
      "1222   3700510002-3700510004.3RD_DRAW        O0004        E040         HP05   \n",
      "1223   3700510002-3700510004.3RD_DRAW        O0004        E040         HP05   \n",
      "1224   3700510002-3700510004.2ND_DRAW        O0003        E039         HP05   \n",
      "1225   3700510002-3700510004.2ND_DRAW        O0003        E039         HP05   \n",
      "1226      9259076592.TOP_HOLES_PIERCE        O0070        E057      PP09-13   \n",
      "1227      9259076592.TOP_HOLES_PIERCE        O0070        E057      PP09-13   \n",
      "1228      9259076592.TOP_HOLES_PIERCE        O0070        E057      PP09-13   \n",
      "1229      9259076592.TOP_HOLES_PIERCE        O0070        E057      PP09-13   \n",
      "1230      9259076592.TOP_HOLES_PIERCE        O0070        E057      PP09-13   \n",
      "1231      9259076592.TOP_HOLES_PIERCE        O0070        E057      PP09-13   \n",
      "1232      9259076592.TOP_HOLES_PIERCE        O0070        E057      PP09-13   \n",
      "1233   3700510002-3700510004.1ST_DRAW        O0002        E040         HP04   \n",
      "1234             F0708010.SQUARE_CUT2        O0139       E1036         PP02   \n",
      "1235            F0708010.PARTNO_PUNCH        O0127       E1036         PP04   \n",
      "\n",
      "        SHIFT  HOUR  OT_FLAG  PLANED_QUANTITY PM_EMPLOYEE_ID  IS_SCRAP  \n",
      "0     General     2        0              590          E1043         1  \n",
      "1     General     1        0              989          E1060         1  \n",
      "2     General     1        0              629          E1043         1  \n",
      "3     General     2        0             1008          E1043         1  \n",
      "4     General     1        0              637          E1043         1  \n",
      "5     General     1        0              200          E1043         1  \n",
      "6     General     1        0             1008          E1019         1  \n",
      "7     General     3        0              458          E1010         1  \n",
      "8     General     6        0             1352          E1010         1  \n",
      "9     General     2        0              600          E1010         1  \n",
      "10    General     5        0              158          E1010         1  \n",
      "11    General     1        0              780          E1043         1  \n",
      "12    General     3        0             1456          E1043         1  \n",
      "13    General     2        0              180          E1010         1  \n",
      "14    General     1        0              670          E1043         1  \n",
      "15    General     2        0              142          E1010         1  \n",
      "16    General     1        0             1035          E1019         1  \n",
      "17    General     1        0              202          E1010         1  \n",
      "18    General     1        0              272          E1010         1  \n",
      "19    General     2        0              672          E1043         1  \n",
      "20    General     2        0              672          E1043         1  \n",
      "21    General     1        0              671          E1043         1  \n",
      "22    General     1        0              882          E1010         1  \n",
      "23    General     1        0             1090          E1043         1  \n",
      "24    General     2        0              583          E1043         1  \n",
      "25    General     2        0              500          E1043         1  \n",
      "26    General     3        0              787          E1010         1  \n",
      "27    General     1        0               70          E1010         1  \n",
      "28    General     1        0             1471          E1019         1  \n",
      "29    General     2        0              602          E1010         1  \n",
      "...       ...   ...      ...              ...            ...       ...  \n",
      "1206  General     2        0              240          E1010         0  \n",
      "1207  General     2        0              240          E1010         0  \n",
      "1208  General     3        0              453          E1010         0  \n",
      "1209  General     2        0              300          E1010         0  \n",
      "1210  General     3        0              350          E1010         0  \n",
      "1211  General     2        0              300          E1010         0  \n",
      "1212  General     1        0              357          E1043         0  \n",
      "1213  General     1        0              180          E1010         0  \n",
      "1214  General     2        0              240          E1010         0  \n",
      "1215  General     1        0              186          E1010         0  \n",
      "1216  General     1        0             2400          E1024         0  \n",
      "1217   Second     1        0              150          E1043         0  \n",
      "1218   Second     2        0              150          E1043         0  \n",
      "1219   Second     1        0              150          E1043         0  \n",
      "1220   Second     2        0              150          E1043         0  \n",
      "1221   Second     3        0              150          E1043         0  \n",
      "1222   Second     1        0              150          E1043         0  \n",
      "1223   Second     3        0              150          E1043         0  \n",
      "1224   Second     1        0              150          E1043         0  \n",
      "1225   Second     2        0              150          E1043         0  \n",
      "1226   Second     1        0              220          E1043         0  \n",
      "1227   Second     3        0              250          E1043         0  \n",
      "1228   Second     4        0              250          E1043         0  \n",
      "1229   Second     5        0              250          E1043         0  \n",
      "1230   Second     6        0              300          E1043         0  \n",
      "1231   Second     8        0              350          E1043         0  \n",
      "1232   Second     9        1              200          E1043         0  \n",
      "1233   Second     1        0              150          E1043         0  \n",
      "1234  General     1        0               10          E1015         0  \n",
      "1235  General     1        0               10          E1015         0  \n",
      "\n",
      "[1236 rows x 10 columns]\n"
     ]
    }
   ],
   "source": [
    "import pandas as pd\n",
    "import io\n",
    "d1 = pd.read_csv(\"data/scrap_data.csv\",encoding='cp437')\n",
    "print(d1)"
   ]
  },
  {
   "cell_type": "markdown",
   "metadata": {
    "colab_type": "text",
    "id": "-2nPCf2Mm2CE"
   },
   "source": [
    "# Label Encoding the Categorical Columns"
   ]
  },
  {
   "cell_type": "code",
   "execution_count": 7,
   "metadata": {
    "colab": {
     "base_uri": "https://localhost:8080/",
     "height": 204
    },
    "colab_type": "code",
    "id": "Dx4Wrn5GvMZo",
    "outputId": "1de3add8-8c79-438e-c26f-6477adbd2a39"
   },
   "outputs": [
    {
     "data": {
      "text/plain": [
       "OPERATION_PRODUCT    category\n",
       "OPERATION_ID         category\n",
       "EMPLOYEE_ID          category\n",
       "MACHINE_CODE         category\n",
       "SHIFT                category\n",
       "HOUR                    int64\n",
       "OT_FLAG                 int64\n",
       "PLANED_QUANTITY         int64\n",
       "PM_EMPLOYEE_ID       category\n",
       "IS_SCRAP                int64\n",
       "dtype: object"
      ]
     },
     "execution_count": 7,
     "metadata": {
      "tags": []
     },
     "output_type": "execute_result"
    }
   ],
   "source": [
    "d1[\"OPERATION_PRODUCT\"] = d1[\"OPERATION_PRODUCT\"].astype('category')\n",
    "d1[\"OPERATION_ID\"] = d1[\"OPERATION_ID\"].astype('category')\n",
    "d1[\"EMPLOYEE_ID\"] = d1[\"EMPLOYEE_ID\"].astype('category')\n",
    "d1[\"MACHINE_CODE\"] = d1[\"MACHINE_CODE\"].astype('category')\n",
    "d1[\"SHIFT\"] = d1[\"SHIFT\"].astype('category')\n",
    "d1[\"PM_EMPLOYEE_ID\"] = d1[\"PM_EMPLOYEE_ID\"].astype('category')\n",
    "d1.dtypes"
   ]
  },
  {
   "cell_type": "code",
   "execution_count": 8,
   "metadata": {
    "colab": {
     "base_uri": "https://localhost:8080/",
     "height": 2176
    },
    "colab_type": "code",
    "id": "PvZIHeLNvMwC",
    "outputId": "d8bad4b7-e3d4-448d-f546-0bb82e0a5b1d"
   },
   "outputs": [
    {
     "name": "stdout",
     "output_type": "stream",
     "text": [
      "      OPERATION_PRODUCT  OPERATION_ID  EMPLOYEE_ID  MACHINE_CODE  SHIFT  HOUR  \\\n",
      "0                   297            44           31            17      0     2   \n",
      "1                   309            32           43            30      0     1   \n",
      "2                   327            36           31            15      0     1   \n",
      "3                   153            49           26            15      0     2   \n",
      "4                   326            21           33            16      0     1   \n",
      "5                   119             3           36             4      0     1   \n",
      "6                   149            49           26            15      0     1   \n",
      "7                   100            28           15            28      0     3   \n",
      "8                   100            28           11            28      0     6   \n",
      "9                    12            16            5             1      0     2   \n",
      "10                   31            17           10            26      0     5   \n",
      "11                  163            44           31            17      0     1   \n",
      "12                   49            10           29             2      0     3   \n",
      "13                   98            26           45            14      0     2   \n",
      "14                   85             3           27             3      0     1   \n",
      "15                  100            28           41            28      0     2   \n",
      "16                   91            30           17            17      0     1   \n",
      "17                   31            17           10            22      0     1   \n",
      "18                   30            13           49             8      0     1   \n",
      "19                  203            11           24            18      0     2   \n",
      "20                  209            20           29             2      0     2   \n",
      "21                  206            50           20             2      0     1   \n",
      "22                   92            34            6            26      0     1   \n",
      "23                  247            11           13            19      0     1   \n",
      "24                  201            20           31            18      0     2   \n",
      "25                  263            20           38             2      0     2   \n",
      "26                   79            25           11            25      0     3   \n",
      "27                    9            43            5            25      0     1   \n",
      "28                   35             1            3             6      0     1   \n",
      "29                   53            23           46             7      0     2   \n",
      "...                 ...           ...          ...           ...    ...   ...   \n",
      "1206                100            28           15            28      0     2   \n",
      "1207                 97            23           46             7      0     2   \n",
      "1208                 97            23           46             7      0     3   \n",
      "1209                 42            15           47             9      0     2   \n",
      "1210                 42            15           47             9      0     3   \n",
      "1211                 41            13           47            10      0     2   \n",
      "1212                303            72           30            16      0     1   \n",
      "1213                101            34            5            22      0     1   \n",
      "1214                101            34            5            22      0     2   \n",
      "1215                135            13           48            11      0     1   \n",
      "1216                108            11           14             0      0     1   \n",
      "1217                 44             1            2             4      1     1   \n",
      "1218                 44             1            2             4      1     2   \n",
      "1219                 48            33            0             3      1     1   \n",
      "1220                 48            33            0             3      1     2   \n",
      "1221                 48            33            0             3      1     3   \n",
      "1222                 46             3            2             5      1     1   \n",
      "1223                 46             3            2             5      1     3   \n",
      "1224                 45             2            0             5      1     1   \n",
      "1225                 45             2            0             5      1     2   \n",
      "1226                101            34            5            22      1     1   \n",
      "1227                101            34            5            22      1     3   \n",
      "1228                101            34            5            22      1     4   \n",
      "1229                101            34            5            22      1     5   \n",
      "1230                101            34            5            22      1     6   \n",
      "1231                101            34            5            22      1     8   \n",
      "1232                101            34            5            22      1     9   \n",
      "1233                 44             1            2             4      1     1   \n",
      "1234                241            77           30            15      0     1   \n",
      "1235                239            70           30            17      0     1   \n",
      "\n",
      "      OT_FLAG  PLANED_QUANTITY  PM_EMPLOYEE_ID  IS_SCRAP  \n",
      "0           0              590               5         1  \n",
      "1           0              989               6         1  \n",
      "2           0              629               5         1  \n",
      "3           0             1008               5         1  \n",
      "4           0              637               5         1  \n",
      "5           0              200               5         1  \n",
      "6           0             1008               3         1  \n",
      "7           0              458               0         1  \n",
      "8           0             1352               0         1  \n",
      "9           0              600               0         1  \n",
      "10          0              158               0         1  \n",
      "11          0              780               5         1  \n",
      "12          0             1456               5         1  \n",
      "13          0              180               0         1  \n",
      "14          0              670               5         1  \n",
      "15          0              142               0         1  \n",
      "16          0             1035               3         1  \n",
      "17          0              202               0         1  \n",
      "18          0              272               0         1  \n",
      "19          0              672               5         1  \n",
      "20          0              672               5         1  \n",
      "21          0              671               5         1  \n",
      "22          0              882               0         1  \n",
      "23          0             1090               5         1  \n",
      "24          0              583               5         1  \n",
      "25          0              500               5         1  \n",
      "26          0              787               0         1  \n",
      "27          0               70               0         1  \n",
      "28          0             1471               3         1  \n",
      "29          0              602               0         1  \n",
      "...       ...              ...             ...       ...  \n",
      "1206        0              240               0         0  \n",
      "1207        0              240               0         0  \n",
      "1208        0              453               0         0  \n",
      "1209        0              300               0         0  \n",
      "1210        0              350               0         0  \n",
      "1211        0              300               0         0  \n",
      "1212        0              357               5         0  \n",
      "1213        0              180               0         0  \n",
      "1214        0              240               0         0  \n",
      "1215        0              186               0         0  \n",
      "1216        0             2400               4         0  \n",
      "1217        0              150               5         0  \n",
      "1218        0              150               5         0  \n",
      "1219        0              150               5         0  \n",
      "1220        0              150               5         0  \n",
      "1221        0              150               5         0  \n",
      "1222        0              150               5         0  \n",
      "1223        0              150               5         0  \n",
      "1224        0              150               5         0  \n",
      "1225        0              150               5         0  \n",
      "1226        0              220               5         0  \n",
      "1227        0              250               5         0  \n",
      "1228        0              250               5         0  \n",
      "1229        0              250               5         0  \n",
      "1230        0              300               5         0  \n",
      "1231        0              350               5         0  \n",
      "1232        1              200               5         0  \n",
      "1233        0              150               5         0  \n",
      "1234        0               10               1         0  \n",
      "1235        0               10               1         0  \n",
      "\n",
      "[1236 rows x 10 columns]\n"
     ]
    }
   ],
   "source": [
    "d1[\"OPERATION_PRODUCT\"] = d1[\"OPERATION_PRODUCT\"].cat.codes\n",
    "d1[\"OPERATION_ID\"] = d1[\"OPERATION_ID\"].cat.codes\n",
    "d1[\"EMPLOYEE_ID\"] = d1[\"EMPLOYEE_ID\"].cat.codes\n",
    "d1[\"MACHINE_CODE\"] = d1[\"MACHINE_CODE\"].cat.codes\n",
    "d1[\"SHIFT\"] = d1[\"SHIFT\"].cat.codes\n",
    "d1[\"PM_EMPLOYEE_ID\"] = d1[\"PM_EMPLOYEE_ID\"].cat.codes\n",
    "print(d1)"
   ]
  },
  {
   "cell_type": "code",
   "execution_count": 9,
   "metadata": {
    "colab": {
     "base_uri": "https://localhost:8080/",
     "height": 136
    },
    "colab_type": "code",
    "id": "Afp08P2yvMmw",
    "outputId": "1e1c9f83-9512-42cc-f5c1-c4003de1084a"
   },
   "outputs": [
    {
     "name": "stdout",
     "output_type": "stream",
     "text": [
      "[[297.  44.  31. ... 590.   5.   1.]\n",
      " [309.  32.  43. ... 989.   6.   1.]\n",
      " [327.  36.  31. ... 629.   5.   1.]\n",
      " ...\n",
      " [ 44.   1.   2. ... 150.   5.   0.]\n",
      " [241.  77.  30. ...  10.   1.   0.]\n",
      " [239.  70.  30. ...  10.   1.   0.]]\n"
     ]
    }
   ],
   "source": [
    "t = np.zeros((1236,10))\n",
    "t[:] = d1[:]\n",
    "\n",
    "#t=np.delete(t,[0],axis=1)\n",
    "print(t)"
   ]
  },
  {
   "cell_type": "code",
   "execution_count": 0,
   "metadata": {
    "colab": {},
    "colab_type": "code",
    "id": "dyntBH0OgJBF"
   },
   "outputs": [],
   "source": [
    "permutation1 = list(np.random.permutation(1236))\n",
    "t2= t[permutation1,:]"
   ]
  },
  {
   "cell_type": "markdown",
   "metadata": {
    "colab_type": "text",
    "id": "ElbVyGds5A34"
   },
   "source": [
    "Splitting the data into required datasets"
   ]
  },
  {
   "cell_type": "code",
   "execution_count": 0,
   "metadata": {
    "colab": {},
    "colab_type": "code",
    "id": "E74kWO7KzCNm"
   },
   "outputs": [],
   "source": [
    "\n",
    "split = 150\n",
    "df = t2[:split,:]\n",
    "dt = t2[split:,:]"
   ]
  },
  {
   "cell_type": "code",
   "execution_count": 12,
   "metadata": {
    "colab": {
     "base_uri": "https://localhost:8080/",
     "height": 136
    },
    "colab_type": "code",
    "id": "g90M_w0C0FnE",
    "outputId": "6b8b80c3-3a95-447f-b4d0-575c02aa9d6e"
   },
   "outputs": [
    {
     "name": "stdout",
     "output_type": "stream",
     "text": [
      "[[4.40e+01 1.00e+00 2.00e+00 ... 1.50e+02 5.00e+00 0.00e+00]\n",
      " [2.92e+02 7.00e+01 2.50e+01 ... 3.40e+02 5.00e+00 1.00e+00]\n",
      " [1.00e+02 2.80e+01 1.40e+01 ... 5.00e+02 0.00e+00 1.00e+00]\n",
      " ...\n",
      " [2.80e+01 7.00e+00 1.00e+01 ... 2.30e+02 0.00e+00 1.00e+00]\n",
      " [4.20e+01 1.50e+01 4.90e+01 ... 1.68e+03 0.00e+00 0.00e+00]\n",
      " [9.40e+01 1.00e+00 5.00e+00 ... 2.06e+02 0.00e+00 0.00e+00]]\n"
     ]
    }
   ],
   "source": [
    "train = np.zeros((1086,10))\n",
    "train[:] = dt[:]\n",
    "print(train)"
   ]
  },
  {
   "cell_type": "code",
   "execution_count": 13,
   "metadata": {
    "colab": {
     "base_uri": "https://localhost:8080/",
     "height": 136
    },
    "colab_type": "code",
    "id": "sjGpJIeV0Fwy",
    "outputId": "2607baa5-f8c0-409a-ed82-3e1c34f26e9f"
   },
   "outputs": [
    {
     "name": "stdout",
     "output_type": "stream",
     "text": [
      "[[ 97.  23.  46. ... 240.   0.   0.]\n",
      " [ 93.  36.  10. ... 668.   0.   0.]\n",
      " [ 30.  13.  49. ... 196.   0.   0.]\n",
      " ...\n",
      " [101.  34.  10. ... 329.   0.   0.]\n",
      " [199.  55.  30. ... 583.   5.   0.]\n",
      " [ 31.  17.  10. ... 200.   5.   1.]]\n"
     ]
    }
   ],
   "source": [
    "test = np.zeros((150,10))\n",
    "test[:] = df[:]\n",
    "print(test)"
   ]
  },
  {
   "cell_type": "code",
   "execution_count": 14,
   "metadata": {
    "colab": {
     "base_uri": "https://localhost:8080/",
     "height": 34
    },
    "colab_type": "code",
    "id": "Z0s7nbiM03NP",
    "outputId": "569751ba-29d2-46df-fdf4-e1443f7df678"
   },
   "outputs": [
    {
     "name": "stdout",
     "output_type": "stream",
     "text": [
      "test(150, 10)\n"
     ]
    }
   ],
   "source": [
    "print(\"test\"+ str(df.shape))"
   ]
  },
  {
   "cell_type": "code",
   "execution_count": 15,
   "metadata": {
    "colab": {
     "base_uri": "https://localhost:8080/",
     "height": 2567
    },
    "colab_type": "code",
    "id": "8XRgafFG03Xw",
    "outputId": "84eae544-235d-40eb-e147-4bffc0fcb738"
   },
   "outputs": [
    {
     "name": "stdout",
     "output_type": "stream",
     "text": [
      "[[0.]\n",
      " [0.]\n",
      " [0.]\n",
      " [0.]\n",
      " [0.]\n",
      " [0.]\n",
      " [0.]\n",
      " [0.]\n",
      " [0.]\n",
      " [0.]\n",
      " [0.]\n",
      " [0.]\n",
      " [1.]\n",
      " [0.]\n",
      " [0.]\n",
      " [0.]\n",
      " [1.]\n",
      " [1.]\n",
      " [1.]\n",
      " [1.]\n",
      " [0.]\n",
      " [0.]\n",
      " [0.]\n",
      " [0.]\n",
      " [0.]\n",
      " [1.]\n",
      " [0.]\n",
      " [0.]\n",
      " [1.]\n",
      " [0.]\n",
      " [0.]\n",
      " [0.]\n",
      " [1.]\n",
      " [0.]\n",
      " [0.]\n",
      " [1.]\n",
      " [1.]\n",
      " [0.]\n",
      " [1.]\n",
      " [0.]\n",
      " [0.]\n",
      " [0.]\n",
      " [1.]\n",
      " [0.]\n",
      " [0.]\n",
      " [1.]\n",
      " [0.]\n",
      " [0.]\n",
      " [1.]\n",
      " [1.]\n",
      " [0.]\n",
      " [1.]\n",
      " [1.]\n",
      " [0.]\n",
      " [1.]\n",
      " [0.]\n",
      " [0.]\n",
      " [1.]\n",
      " [0.]\n",
      " [1.]\n",
      " [1.]\n",
      " [1.]\n",
      " [1.]\n",
      " [1.]\n",
      " [1.]\n",
      " [0.]\n",
      " [0.]\n",
      " [0.]\n",
      " [1.]\n",
      " [0.]\n",
      " [0.]\n",
      " [1.]\n",
      " [0.]\n",
      " [1.]\n",
      " [0.]\n",
      " [1.]\n",
      " [0.]\n",
      " [0.]\n",
      " [0.]\n",
      " [0.]\n",
      " [1.]\n",
      " [0.]\n",
      " [1.]\n",
      " [0.]\n",
      " [1.]\n",
      " [0.]\n",
      " [1.]\n",
      " [1.]\n",
      " [1.]\n",
      " [0.]\n",
      " [0.]\n",
      " [1.]\n",
      " [0.]\n",
      " [0.]\n",
      " [0.]\n",
      " [0.]\n",
      " [0.]\n",
      " [1.]\n",
      " [0.]\n",
      " [0.]\n",
      " [1.]\n",
      " [1.]\n",
      " [0.]\n",
      " [1.]\n",
      " [0.]\n",
      " [1.]\n",
      " [1.]\n",
      " [1.]\n",
      " [0.]\n",
      " [0.]\n",
      " [0.]\n",
      " [0.]\n",
      " [0.]\n",
      " [0.]\n",
      " [0.]\n",
      " [0.]\n",
      " [0.]\n",
      " [0.]\n",
      " [0.]\n",
      " [1.]\n",
      " [1.]\n",
      " [0.]\n",
      " [1.]\n",
      " [1.]\n",
      " [0.]\n",
      " [1.]\n",
      " [1.]\n",
      " [1.]\n",
      " [0.]\n",
      " [0.]\n",
      " [0.]\n",
      " [0.]\n",
      " [1.]\n",
      " [1.]\n",
      " [1.]\n",
      " [0.]\n",
      " [1.]\n",
      " [0.]\n",
      " [1.]\n",
      " [0.]\n",
      " [0.]\n",
      " [1.]\n",
      " [1.]\n",
      " [0.]\n",
      " [1.]\n",
      " [1.]\n",
      " [0.]\n",
      " [0.]\n",
      " [0.]\n",
      " [1.]]\n"
     ]
    }
   ],
   "source": [
    "Y_test = np.zeros((150,1))\n",
    "\n",
    "Y_test[:] = test[:,[9]]\n",
    "print(Y_test)"
   ]
  },
  {
   "cell_type": "code",
   "execution_count": 16,
   "metadata": {
    "colab": {
     "base_uri": "https://localhost:8080/",
     "height": 136
    },
    "colab_type": "code",
    "id": "JwbhfXOi03fk",
    "outputId": "e6fc5d89-87d2-44ba-b454-17338ac10f80"
   },
   "outputs": [
    {
     "name": "stdout",
     "output_type": "stream",
     "text": [
      "[[0.]\n",
      " [1.]\n",
      " [1.]\n",
      " ...\n",
      " [1.]\n",
      " [0.]\n",
      " [0.]]\n"
     ]
    }
   ],
   "source": [
    "Y_train = np.zeros((1086,1))\n",
    "\n",
    "Y_train[:] = train[:,[9]]\n",
    "print(Y_train)"
   ]
  },
  {
   "cell_type": "code",
   "execution_count": 0,
   "metadata": {
    "colab": {},
    "colab_type": "code",
    "id": "m7YE91ax03l0"
   },
   "outputs": [],
   "source": [
    "X_test = np.zeros((150,9))\n",
    "X_train = np.zeros((1086,9))\n",
    "\n",
    "X_test = np.delete(test,9,axis=1)\n",
    "X_train = np.delete(train,9,axis=1)\n"
   ]
  },
  {
   "cell_type": "code",
   "execution_count": 18,
   "metadata": {
    "colab": {
     "base_uri": "https://localhost:8080/",
     "height": 289
    },
    "colab_type": "code",
    "id": "D5lUD6aQ1c-Q",
    "outputId": "79bff068-6699-4071-83ab-44bb2d423287"
   },
   "outputs": [
    {
     "name": "stdout",
     "output_type": "stream",
     "text": [
      "[[ 97.  23.  46. ...   0. 240.   0.]\n",
      " [ 93.  36.  10. ...   0. 668.   0.]\n",
      " [ 30.  13.  49. ...   0. 196.   0.]\n",
      " ...\n",
      " [101.  34.  10. ...   0. 329.   0.]\n",
      " [199.  55.  30. ...   0. 583.   5.]\n",
      " [ 31.  17.  10. ...   0. 200.   5.]]\n",
      "test:(150, 9)\n",
      "[[4.40e+01 1.00e+00 2.00e+00 ... 0.00e+00 1.50e+02 5.00e+00]\n",
      " [2.92e+02 7.00e+01 2.50e+01 ... 0.00e+00 3.40e+02 5.00e+00]\n",
      " [1.00e+02 2.80e+01 1.40e+01 ... 0.00e+00 5.00e+02 0.00e+00]\n",
      " ...\n",
      " [2.80e+01 7.00e+00 1.00e+01 ... 0.00e+00 2.30e+02 0.00e+00]\n",
      " [4.20e+01 1.50e+01 4.90e+01 ... 0.00e+00 1.68e+03 0.00e+00]\n",
      " [9.40e+01 1.00e+00 5.00e+00 ... 0.00e+00 2.06e+02 0.00e+00]]\n",
      "Train:(1086, 9)\n"
     ]
    }
   ],
   "source": [
    "print(X_test)\n",
    "print(\"test:\"+ str(X_test.shape))\n",
    "print(X_train)\n",
    "print(\"Train:\"+ str(X_train.shape))"
   ]
  },
  {
   "cell_type": "code",
   "execution_count": 0,
   "metadata": {
    "colab": {},
    "colab_type": "code",
    "id": "gEM6zq9t1dKc"
   },
   "outputs": [],
   "source": [
    "X_train_final = np.zeros((9,1086))\n",
    "X_test_final = np.zeros((9,150))\n",
    "Y_train_final = np.zeros((1,1086))\n",
    "Y_test_final = np.zeros((1,150))\n",
    "\n",
    "X_train_final = np.transpose(X_train)\n",
    "X_test_final = np.transpose(X_test)\n",
    "Y_train_final = np.transpose(Y_train)\n",
    "Y_test_final = np.transpose(Y_test)"
   ]
  },
  {
   "cell_type": "code",
   "execution_count": 20,
   "metadata": {
    "colab": {
     "base_uri": "https://localhost:8080/",
     "height": 136
    },
    "colab_type": "code",
    "id": "L19Rh_wgO3a9",
    "outputId": "d545f99c-4c0d-438c-8c8a-ccc5088b91c5"
   },
   "outputs": [
    {
     "name": "stdout",
     "output_type": "stream",
     "text": [
      "[[4.40e+01 2.92e+02 1.00e+02 ... 2.80e+01 4.20e+01 9.40e+01]\n",
      " [1.00e+00 7.00e+01 2.80e+01 ... 7.00e+00 1.50e+01 1.00e+00]\n",
      " [2.00e+00 2.50e+01 1.40e+01 ... 1.00e+01 4.90e+01 5.00e+00]\n",
      " ...\n",
      " [0.00e+00 0.00e+00 0.00e+00 ... 0.00e+00 0.00e+00 0.00e+00]\n",
      " [1.50e+02 3.40e+02 5.00e+02 ... 2.30e+02 1.68e+03 2.06e+02]\n",
      " [5.00e+00 5.00e+00 0.00e+00 ... 0.00e+00 0.00e+00 0.00e+00]]\n"
     ]
    }
   ],
   "source": [
    "print(X_train_final[:][:])"
   ]
  },
  {
   "cell_type": "markdown",
   "metadata": {
    "colab_type": "text",
    "id": "CT4lUKVm8HMF"
   },
   "source": [
    "**normalising the input data**"
   ]
  },
  {
   "cell_type": "code",
   "execution_count": 21,
   "metadata": {
    "colab": {
     "base_uri": "https://localhost:8080/",
     "height": 187
    },
    "colab_type": "code",
    "id": "Q8ZPyZew1dTU",
    "outputId": "e4169056-3a91-4ce8-f648-5dd641ec55e4"
   },
   "outputs": [
    {
     "name": "stdout",
     "output_type": "stream",
     "text": [
      "1086\n",
      "[[1.20976059e+02]\n",
      " [2.36887661e+01]\n",
      " [2.02882136e+01]\n",
      " [1.66012891e+01]\n",
      " [6.90607735e-02]\n",
      " [2.48434622e+00]\n",
      " [6.44567219e-03]\n",
      " [5.95395028e+02]\n",
      " [2.27808471e+00]]\n"
     ]
    }
   ],
   "source": [
    "mtr = X_train_final.shape[1]\n",
    "print(mtr)\n",
    "utr = np.sum(X_train_final,axis=1,keepdims=True)/mtr\n",
    "print(utr)"
   ]
  },
  {
   "cell_type": "code",
   "execution_count": 0,
   "metadata": {
    "colab": {},
    "colab_type": "code",
    "id": "yqDS4cDp1diK"
   },
   "outputs": [],
   "source": [
    "train_set_x = X_train_final - utr\n",
    "test_set_x = X_test_final - utr"
   ]
  },
  {
   "cell_type": "code",
   "execution_count": 0,
   "metadata": {
    "colab": {},
    "colab_type": "code",
    "id": "wVlbc9X_6Vh-"
   },
   "outputs": [],
   "source": [
    "norm = (np.sum(np.square(train_set_x),axis=1,keepdims=True))/mtr\n",
    "\n",
    "train_set_x = train_set_x / norm\n",
    "test_set_x = test_set_x / norm"
   ]
  },
  {
   "cell_type": "code",
   "execution_count": 24,
   "metadata": {
    "colab": {
     "base_uri": "https://localhost:8080/",
     "height": 493
    },
    "colab_type": "code",
    "id": "p18BMJqJ6Vwd",
    "outputId": "0a2b37da-f1f9-47c5-b587-26bd703d628c"
   },
   "outputs": [
    {
     "name": "stdout",
     "output_type": "stream",
     "text": [
      "[[-7.34547919e-03  1.63200457e-02 -2.00165099e-03 ... -8.87228725e-03\n",
      "  -7.53633020e-03 -2.57420401e-03]\n",
      " [-6.22717876e-02  1.27106221e-01  1.18326505e-02 ... -4.58041347e-02\n",
      "  -2.38472641e-02 -6.22717876e-02]\n",
      " [-9.40714349e-02  2.42366211e-02 -3.23454926e-02 ... -5.29208067e-02\n",
      "   1.47688506e-01 -7.86399493e-02]\n",
      " ...\n",
      " [-1.00648749e+00 -1.00648749e+00 -1.00648749e+00 ... -1.00648749e+00\n",
      "  -1.00648749e+00 -1.00648749e+00]\n",
      " [-9.55874505e-04 -5.48110285e-04 -2.04729890e-04 ... -7.84184308e-04\n",
      "   2.32770053e-03 -8.35691367e-04]\n",
      " [ 4.83637286e-01  4.83637286e-01 -4.04776267e-01 ... -4.04776267e-01\n",
      "  -4.04776267e-01 -4.04776267e-01]]\n",
      "train:(9, 1086)\n",
      "[[-2.28792750e-03 -2.66962951e-03 -8.68143624e-03 ... -1.90622548e-03\n",
      "   7.44547387e-03 -8.58601074e-03]\n",
      " [-1.89039355e-03  3.37895211e-02 -2.93364817e-02 ...  2.83003035e-02\n",
      "   8.59370887e-02 -1.83580465e-02]\n",
      " [ 1.32257020e-01 -5.29208067e-02  1.47688506e-01 ... -5.29208067e-02\n",
      "   4.99557638e-02 -5.29208067e-02]\n",
      " ...\n",
      " [-1.00648749e+00 -1.00648749e+00 -1.00648749e+00 ... -1.00648749e+00\n",
      "  -1.00648749e+00 -1.00648749e+00]\n",
      " [-7.62723033e-04  1.55819526e-04 -8.57152642e-04 ... -5.71717688e-04\n",
      "  -2.66013093e-05 -8.48568132e-04]\n",
      " [-4.04776267e-01 -4.04776267e-01 -4.04776267e-01 ... -4.04776267e-01\n",
      "   4.83637286e-01  4.83637286e-01]]\n",
      "Test:(9, 150)\n"
     ]
    }
   ],
   "source": [
    "print(train_set_x)\n",
    "print(\"train:\"+ str(train_set_x.shape))\n",
    "print(test_set_x)\n",
    "print(\"Test:\"+ str(test_set_x.shape))"
   ]
  },
  {
   "cell_type": "markdown",
   "metadata": {
    "colab_type": "text",
    "id": "97gGiemK88ke"
   },
   "source": [
    "# Activation Functions"
   ]
  },
  {
   "cell_type": "markdown",
   "metadata": {
    "colab_type": "text",
    "id": "VsFd3Ql28K1T"
   },
   "source": [
    "**Defininhg Sigmoid activation function**"
   ]
  },
  {
   "cell_type": "code",
   "execution_count": 0,
   "metadata": {
    "colab": {},
    "colab_type": "code",
    "id": "s4hrQCzwR6Af"
   },
   "outputs": [],
   "source": [
    "def sigmoid(z):\n",
    "   \n",
    "    s = 1 / (1 + np.exp(-z))\n",
    "    \n",
    "    return s"
   ]
  },
  {
   "cell_type": "code",
   "execution_count": 0,
   "metadata": {
    "colab": {},
    "colab_type": "code",
    "id": "kvmKLSySePc4"
   },
   "outputs": [],
   "source": [
    "def sigmoiderivative(Z):\n",
    "  \n",
    "  f = Z * (1-Z)\n",
    "  \n",
    "  return f"
   ]
  },
  {
   "cell_type": "markdown",
   "metadata": {
    "colab_type": "text",
    "id": "Pxopqj7P9Jk_"
   },
   "source": [
    "**function for tanh activation**"
   ]
  },
  {
   "cell_type": "code",
   "execution_count": 0,
   "metadata": {
    "colab": {},
    "colab_type": "code",
    "id": "rFopXuTKR6Aj"
   },
   "outputs": [],
   "source": [
    "def tanh(z):\n",
    "    \n",
    "    s = (np.exp(z) - np.exp(-z))/(np.exp(z) + np.exp(-z))\n",
    "    \n",
    "    return s"
   ]
  },
  {
   "cell_type": "markdown",
   "metadata": {
    "colab_type": "text",
    "id": "sODSXD3t9O8V"
   },
   "source": [
    "**derivative of tanh activation**"
   ]
  },
  {
   "cell_type": "code",
   "execution_count": 0,
   "metadata": {
    "colab": {},
    "colab_type": "code",
    "id": "avRK7nqTR6Al"
   },
   "outputs": [],
   "source": [
    "def tanhderivative(x):\n",
    "    \n",
    "    p = 1 - np.square(x)\n",
    "    \n",
    "    return p"
   ]
  },
  {
   "cell_type": "markdown",
   "metadata": {
    "colab_type": "text",
    "id": "SP9p2N4T9T45"
   },
   "source": [
    "**function for RELU activation**"
   ]
  },
  {
   "cell_type": "code",
   "execution_count": 0,
   "metadata": {
    "colab": {},
    "colab_type": "code",
    "id": "iA51_1fcR6Ap"
   },
   "outputs": [],
   "source": [
    "def relu(z):\n",
    "    \n",
    "    s = np.maximum(0,z)\n",
    "    \n",
    "    return s"
   ]
  },
  {
   "cell_type": "markdown",
   "metadata": {
    "colab_type": "text",
    "id": "98b_bWNt9ZXu"
   },
   "source": [
    "**derivative of RELU activation**"
   ]
  },
  {
   "cell_type": "code",
   "execution_count": 0,
   "metadata": {
    "colab": {},
    "colab_type": "code",
    "id": "tlAHT-xmR6Aq"
   },
   "outputs": [],
   "source": [
    "def reluderivative(x):\n",
    "    x[x<=0] = 0\n",
    "    x[x>0] = 1\n",
    "    return x\n"
   ]
  },
  {
   "cell_type": "markdown",
   "metadata": {
    "colab_type": "text",
    "id": "uGxL018z9obo"
   },
   "source": [
    "# Core functions"
   ]
  },
  {
   "cell_type": "markdown",
   "metadata": {
    "colab_type": "text",
    "id": "JzDll9W89su-"
   },
   "source": [
    "**Initialising the Weights and bais**"
   ]
  },
  {
   "cell_type": "code",
   "execution_count": 0,
   "metadata": {
    "colab": {},
    "colab_type": "code",
    "id": "yPiutUqpR6Au"
   },
   "outputs": [],
   "source": [
    "\n",
    "def initialize(layer):\n",
    "    \n",
    "    l = len(layer)\n",
    "    parameters = {}\n",
    "    np.random.seed(0)\n",
    "    for i in range(1,l-1):\n",
    "      parameters[\"W\"+str(i)]=np.random.randn(layer[i],layer[i-1]) * np.sqrt(2/layer[i-1]) \n",
    "      parameters[\"b\"+str(i)]=np.zeros((layer[i],1))\n",
    "    \n",
    "    parameters[\"W\"+str(l-1)]=np.random.randn(layer[l-1],layer[l-2]) * 0.001\n",
    "    parameters[\"b\"+str(l-1)]=np.zeros((layer[l-1],1)) \n",
    "   \n",
    "    \n",
    "    return parameters"
   ]
  },
  {
   "cell_type": "code",
   "execution_count": 0,
   "metadata": {
    "colab": {},
    "colab_type": "code",
    "id": "tJcmhrTWwNU8"
   },
   "outputs": [],
   "source": [
    "def initialize_adam(parameters,layer) :\n",
    "    \n",
    "    L = len(parameters) // 2\n",
    "    v = {}\n",
    "    s = {}\n",
    "    \n",
    "   \n",
    "    for l in range(L-1):\n",
    "   \n",
    "        v[\"dW\" + str(l+1)] = np.zeros(parameters['W' + str(l+1)].shape)\n",
    "        v[\"db\" + str(l+1)] = np.zeros(parameters['b' + str(l+1)].shape)\n",
    "        s[\"dW\" + str(l+1)] = np.zeros(parameters['W' + str(l+1)].shape)\n",
    "        s[\"db\" + str(l+1)] = np.zeros(parameters['b' + str(l+1)].shape)\n",
    "    \n",
    "    \n",
    "    return v, s"
   ]
  },
  {
   "cell_type": "code",
   "execution_count": 0,
   "metadata": {
    "colab": {},
    "colab_type": "code",
    "id": "lAk0CFNTwNiz"
   },
   "outputs": [],
   "source": [
    "def random_mini_batches(X, Y, mini_batch_size = 512):\n",
    "    \n",
    "               \n",
    "    m = X.shape[1]                  \n",
    "    mini_batches = []\n",
    "        \n",
    "    permutation = list(np.random.permutation(m))\n",
    "    shuffled_X = X[:, permutation]\n",
    "    shuffled_Y = Y[:, permutation].reshape((1,m))\n",
    "\n",
    "    # Step 2: Partition (shuffled_X, shuffled_Y). Minus the end case.\n",
    "    num_complete_minibatches = math.floor(m/mini_batch_size) # number of mini batches of size mini_batch_size in your partitionning\n",
    "    for k in range(0, num_complete_minibatches):\n",
    "        mini_batch_X = shuffled_X[:, k*mini_batch_size : (k+1)*mini_batch_size]\n",
    "        mini_batch_Y = shuffled_Y[:, k*mini_batch_size : (k+1)*mini_batch_size]\n",
    "      \n",
    "        mini_batch = (mini_batch_X, mini_batch_Y)\n",
    "        mini_batches.append(mini_batch)\n",
    "    \n",
    "    # Handling the end case (last mini-batch < mini_batch_size)\n",
    "    if m % mini_batch_size != 0:\n",
    "        \n",
    "        mini_batch_X = shuffled_X[:, num_complete_minibatches*mini_batch_size:]\n",
    "        mini_batch_Y = shuffled_Y[:, num_complete_minibatches*mini_batch_size:]\n",
    "        \n",
    "        mini_batch = (mini_batch_X, mini_batch_Y)\n",
    "        mini_batches.append(mini_batch)\n",
    "    \n",
    "    return mini_batches"
   ]
  },
  {
   "cell_type": "markdown",
   "metadata": {
    "colab_type": "text",
    "id": "rlA0IH7-936C"
   },
   "source": [
    "**BACK PROPAGATION(Function to find the derivatives)**"
   ]
  },
  {
   "cell_type": "code",
   "execution_count": 0,
   "metadata": {
    "colab": {},
    "colab_type": "code",
    "id": "bqTyJPOP2Vpt"
   },
   "outputs": [],
   "source": [
    "def fwd_propagation(X,parameters,layer):\n",
    "  \n",
    "  l = len(layer)\n",
    "  forward = {}\n",
    "  \n",
    "  forward[\"Z\"+str(1)]=np.dot(parameters[\"W\"+str(1)],X)+parameters[\"b\"+str(1)]\n",
    "    \n",
    "  forward[\"A\"+str(1)]=relu(forward[\"Z\"+str(1)])\n",
    "  \n",
    "  for i in range(2,l-1):\n",
    "    forward[\"Z\"+str(i)]=np.dot(parameters[\"W\"+str(i)],forward[\"A\"+str(i-1)])+parameters[\"b\"+str(i)]\n",
    "    forward[\"A\"+str(i)]=relu(forward[\"Z\"+str(i)])\n",
    "   \n",
    "  forward[\"Z\"+str(l-1)]=np.dot(parameters[\"W\"+str(l-1)],forward[\"A\"+str(l-2)])+parameters[\"b\"+str(l-1)]\n",
    "  forward[\"A\"+str(l-1)]=sigmoid(forward[\"Z\"+str(l-1)])\n",
    "  \n",
    "  return forward"
   ]
  },
  {
   "cell_type": "code",
   "execution_count": 0,
   "metadata": {
    "colab": {},
    "colab_type": "code",
    "id": "Mmyy7R7Q2V6w"
   },
   "outputs": [],
   "source": [
    "def fwd_propagation_drop(X,parameters,layer,keep_prob):\n",
    "  drop = {}\n",
    "  l = len(layer)\n",
    "  forward = {}\n",
    "  \n",
    "  forward[\"Z\"+str(1)]=np.dot(parameters[\"W\"+str(1)],X)+parameters[\"b\"+str(1)]\n",
    "    \n",
    "  forward[\"A\"+str(1)]=relu(forward[\"Z\"+str(1)])\n",
    "  drop[\"d\"+str(1)]=(np.random.rand(forward[\"A\"+str(1)].shape[0],forward[\"A\"+str(1)].shape[1])) < keep_prob[1]\n",
    "    \n",
    "  forward[\"A\"+str(1)] = np.multiply(forward[\"A\"+str(1)],drop[\"d\"+str(1)])\n",
    "  forward[\"A\"+str(1)] = forward[\"A\"+str(1)] / keep_prob[1]\n",
    "  \n",
    "  for i in range(2,l-1):\n",
    "    forward[\"Z\"+str(i)]=np.dot(parameters[\"W\"+str(i)],forward[\"A\"+str(i-1)])+parameters[\"b\"+str(i)]\n",
    "    \n",
    "    forward[\"A\"+str(i)]=relu(forward[\"Z\"+str(i)])\n",
    "    drop[\"d\"+str(i)]=(np.random.rand(forward[\"A\"+str(i)].shape[0],forward[\"A\"+str(i)].shape[1])) < keep_prob[i]\n",
    "    \n",
    "    forward[\"A\"+str(i)] = np.multiply(forward[\"A\"+str(i)],drop[\"d\"+str(i)])\n",
    "    forward[\"A\"+str(i)] = forward[\"A\"+str(i)] / keep_prob[i]\n",
    "    \n",
    "  forward[\"Z\"+str(l-1)]=np.dot(parameters[\"W\"+str(l-1)],forward[\"A\"+str(l-2)])+parameters[\"b\"+str(l-1)]\n",
    "  forward[\"A\"+str(l-1)]=sigmoid(forward[\"Z\"+str(l-1)])\n",
    "  \n",
    "  return forward"
   ]
  },
  {
   "cell_type": "code",
   "execution_count": 0,
   "metadata": {
    "colab": {},
    "colab_type": "code",
    "id": "W2fH8ImOb-cj"
   },
   "outputs": [],
   "source": [
    "def back_prop(X,Y,forward,layer,parameters,lambd=0.6):\n",
    "  m = X.shape[1]\n",
    "  l = len(layer)\n",
    "  grads = {}\n",
    "  \n",
    "  grads[\"dz\"+str(l-1)]= forward[\"A\"+str(l-1)] - Y\n",
    "  grads[\"dw\"+str(l-1)]=(np.dot(grads[\"dz\"+str(l-1)],forward[\"A\"+str(l-2)].T) / m) + ((lambd/m)*parameters[\"W\"+str(l-1)])\n",
    "  grads[\"db\"+str(l-1)]=np.sum(grads[\"dz\"+str(l-1)],axis=1,keepdims=True) / m \n",
    "  grads[\"da\"+str(l-2)]=np.dot(parameters[\"W\"+str(l-1)].T,grads[\"dz\"+str(l-1)])\n",
    "  \n",
    "  for i in range(l-2,1,-1):\n",
    "    grads[\"dz\"+str(i)]=grads[\"da\"+str(i)]*reluderivative(forward[\"A\"+str(i)])\n",
    "    grads[\"dw\"+str(i)]=(np.dot(grads[\"dz\"+str(i)],forward[\"A\"+str(i-1)].T) / m) + ((lambd/m)*parameters[\"W\"+str(i)])\n",
    "    grads[\"db\"+str(i)]=np.sum(grads[\"dz\"+str(i)],axis=1,keepdims=True)/m\n",
    "    grads[\"da\"+str(i-1)]=np.dot(parameters[\"W\"+str(i)].T,grads[\"dz\"+str(i)])\n",
    "  \n",
    "  grads[\"dz\"+str(1)]=grads[\"da\"+str(1)]*reluderivative(forward[\"A\"+str(1)])\n",
    "  grads[\"dw\"+str(1)]=np.dot(grads[\"dz\"+str(1)],X.T)/m + ((lambd/m)*parameters[\"W\"+str(1)])\n",
    "\n",
    "  grads[\"db\"+str(1)]=np.sum(grads[\"dz\"+str(1)],axis=1,keepdims=True)/m\n",
    "    \n",
    "  return grads"
   ]
  },
  {
   "cell_type": "markdown",
   "metadata": {
    "colab_type": "text",
    "id": "lVuaLATN9_-W"
   },
   "source": [
    "**function to update the weights and Bais**"
   ]
  },
  {
   "cell_type": "code",
   "execution_count": 0,
   "metadata": {
    "colab": {},
    "colab_type": "code",
    "id": "Yim9YcQYhsXp"
   },
   "outputs": [],
   "source": [
    "def optimise(parameters,grads,layer,learning_rate=0.01):\n",
    "  l= len(layer)\n",
    "  \n",
    "  for i in range(1,l):\n",
    "    parameters[\"W\"+str(i)]=parameters[\"W\"+str(i)] - (learning_rate * grads[\"dw\"+str(i)])\n",
    "    parameters[\"b\"+str(i)]=parameters[\"b\"+str(i)] - (learning_rate * grads[\"db\"+str(i)])\n",
    "  \n",
    "  return parameters\n"
   ]
  },
  {
   "cell_type": "code",
   "execution_count": 0,
   "metadata": {
    "colab": {},
    "colab_type": "code",
    "id": "FKKmydKsxC0y"
   },
   "outputs": [],
   "source": [
    "def update_parameters_with_adam(parameters, grads, layer, v, s, t, learning_rate = 0.01, beta1 = 0.9, beta2 = 0.999,  epsilon = 1e-8):\n",
    "    \n",
    "    \n",
    "    L = len(parameters) // 2                 # number of layers in the neural networks\n",
    "    v_corrected = {}                         # Initializing first moment estimate, python dictionary\n",
    "    s_corrected = {}                         # Initializing second moment estimate, python dictionary\n",
    "    \n",
    "    \n",
    "    for l in range(L-1):\n",
    "       \n",
    "        v[\"dW\" + str(l+1)] = beta1 * v['dW' + str(l+1)] + (1-beta1) * grads['dw' + str(l+1)]\n",
    "        v[\"db\" + str(l+1)] = beta1 * v['db' + str(l+1)] + (1-beta1) * grads['db' + str(l+1)]\n",
    "       \n",
    "        v_corrected[\"dw\" + str(l+1)] = v['dW' + str(l+1)] / (1 - np.power(beta1, t))\n",
    "        v_corrected[\"db\" + str(l+1)] = v['db' + str(l+1)] / (1 - np.power(beta1, t))\n",
    "       \n",
    "\n",
    "        s[\"dW\" + str(l+1)] = beta2 * s['dW' + str(l+1)] + (1-beta2) * np.power(grads['dw' + str(l+1)], 2)\n",
    "        s[\"db\" + str(l+1)] = beta2 * s['db' + str(l+1)] + (1-beta2) * np.power(grads['db' + str(l+1)], 2)\n",
    "        \n",
    "        s_corrected[\"dw\" + str(l+1)] = s['dW' + str(l+1)] / (1 - np.power(beta2, t))\n",
    "        s_corrected[\"db\" + str(l+1)] = s['db' + str(l+1)] / (1 - np.power(beta2, t))\n",
    "       \n",
    "        parameters[\"W\" + str(l+1)] = parameters['W' + str(l+1)] - learning_rate * v_corrected['dw' + str(l+1)] / np.sqrt(s_corrected['dw' + str(l+1)] + epsilon)\n",
    "        parameters[\"b\" + str(l+1)] = parameters['b' + str(l+1)] - learning_rate * v_corrected['db' + str(l+1)] / np.sqrt(s_corrected['db' + str(l+1)] + epsilon)\n",
    "       \n",
    "    return parameters, v, s"
   ]
  },
  {
   "cell_type": "markdown",
   "metadata": {
    "colab_type": "text",
    "id": "ERcdNlRc-K7b"
   },
   "source": [
    "**function to predict result**"
   ]
  },
  {
   "cell_type": "code",
   "execution_count": 0,
   "metadata": {
    "colab": {},
    "colab_type": "code",
    "id": "__pDc33RjqMd"
   },
   "outputs": [],
   "source": [
    "def predict(X,parameters,layers):\n",
    "  l= len(layer)\n",
    "  fwd = fwd_propagation(X,parameters,layers)\n",
    "  \n",
    "  Y1 = fwd[\"A\"+str(l-1)]\n",
    "  Y1 = np.around(Y1)\n",
    "  \n",
    "  return Y1"
   ]
  },
  {
   "cell_type": "code",
   "execution_count": 0,
   "metadata": {
    "colab": {},
    "colab_type": "code",
    "id": "oeyoj2FMk-ss"
   },
   "outputs": [],
   "source": [
    "def calculate_cost(Y,forward,parameters,layer,lambd=0.6):\n",
    "  l= len(layer)\n",
    "  m=Y.shape[1]\n",
    "  \n",
    "  cost = (-1 * np.sum((Y * np.log(forward[\"A\"+str(l-1)])) + (1 - Y) * np.log(1 - forward[\"A\"+str(l-1)])) / m) + ((lambd/(2*m))*np.sum(np.square(parameters[\"W\"+str(l-1)])))\n",
    "  \n",
    "  return cost\n",
    "  "
   ]
  },
  {
   "cell_type": "markdown",
   "metadata": {
    "colab_type": "text",
    "id": "J6UPvx3f-WfN"
   },
   "source": [
    "**Final model with all functions merged**"
   ]
  },
  {
   "cell_type": "code",
   "execution_count": 0,
   "metadata": {
    "colab": {},
    "colab_type": "code",
    "id": "002kCX9NnC2A"
   },
   "outputs": [],
   "source": [
    "def model(X_train,Y_train, X_test, Y_test, layer, keep_prob,mini_batch_size=512, beta1=0.0, beta2=0.0, learning_rate=0.001, iterations = 1500, lambd=0.6):\n",
    "  costs = []\n",
    "  \n",
    "  parameters = initialize(layer)\n",
    "  v, s = initialize_adam(parameters,layer)\n",
    "  t = 0\n",
    "  \n",
    "  for j in range(iterations):\n",
    "  \n",
    "    minibatches = random_mini_batches(X_train,Y_train,mini_batch_size)\n",
    "    \n",
    "    for minibatch in minibatches:\n",
    "      (minibatch_x,minibatch_y) = minibatch\n",
    "      \n",
    "      forward = fwd_propagation_drop(minibatch_x,parameters,layer,keep_prob)\n",
    "      \n",
    "      cost = calculate_cost(minibatch_y,forward,parameters,layer,lambd)\n",
    "      grads = back_prop(minibatch_x,minibatch_y,forward,layer,parameters,lambd)\n",
    "      t=t+1\n",
    "      parameters,v,s = update_parameters_with_adam(parameters, grads, layer, v, s, t, learning_rate,beta1, beta2)\n",
    "    \n",
    "    \n",
    "    if j % 50 == 0:\n",
    "      costs.append(cost)\n",
    "    \n",
    "    if j%100 == 0:\n",
    "      print (\"Cost after iteration %i: %f\" %(j , cost))\n",
    "      \n",
    "  Y_prediction_train = predict(X_train,parameters,layer)\n",
    "  Y_prediction_test = predict(X_test,parameters,layer)\n",
    "\n",
    "  abb = np.mean(np.abs(Y_prediction_train - Y_train)) * 100\n",
    "  abc = np.mean(np.abs(Y_prediction_test - Y_test)) * 100\n",
    "  print(\"train accuracy: {} %\".format(100 - abb))\n",
    "  print(\"test accuracy: {} %\".format(100 - abc))\n",
    "  \n",
    "  return parameters, grads, forward, costs, Y_prediction_test, Y_prediction_train"
   ]
  },
  {
   "cell_type": "markdown",
   "metadata": {
    "colab_type": "text",
    "id": "a0_hVeqpR6A_"
   },
   "source": [
    "# Training of model"
   ]
  },
  {
   "cell_type": "code",
   "execution_count": 73,
   "metadata": {
    "colab": {
     "base_uri": "https://localhost:8080/",
     "height": 204
    },
    "colab_type": "code",
    "id": "qeowsx09rnQq",
    "outputId": "1953bd3e-e865-4864-f7ce-e82de4583b2b"
   },
   "outputs": [
    {
     "name": "stdout",
     "output_type": "stream",
     "text": [
      "Cost after iteration 0: 0.693315\n",
      "Cost after iteration 100: 0.693120\n",
      "Cost after iteration 200: 0.689693\n",
      "Cost after iteration 300: 0.682674\n",
      "Cost after iteration 400: 0.656831\n",
      "Cost after iteration 500: 0.638798\n",
      "Cost after iteration 600: 0.654414\n",
      "Cost after iteration 700: 0.645021\n",
      "Cost after iteration 800: 0.664078\n",
      "train accuracy: 65.19337016574585 %\n",
      "test accuracy: 60.0 %\n"
     ]
    }
   ],
   "source": [
    "layer = [9,15,7,5,2,1]\n",
    "keep_prob = [1.0,1.0,1.0,1.0,1.0,1.0]\n",
    "para,grd,ford,cst,test,train1 = model(train_set_x, Y_train_final, test_set_x, Y_test_final, layer, keep_prob, mini_batch_size=512, beta1=0.9, beta2=0.99, learning_rate = 0.001, iterations = 900, lambd = 0.0 ) "
   ]
  },
  {
   "cell_type": "code",
   "execution_count": 53,
   "metadata": {
    "colab": {
     "base_uri": "https://localhost:8080/",
     "height": 119
    },
    "colab_type": "code",
    "id": "1XoWDR6YFePa",
    "outputId": "af78eb16-59f2-4b20-96d5-fc64b5daed32"
   },
   "outputs": [
    {
     "name": "stdout",
     "output_type": "stream",
     "text": [
      "for the Test Set\n",
      "false Positives=0.0\n",
      "False Negatives=60.0\n",
      "correct=90.0\n",
      "True Positives=0.0\n",
      "True Negatives=90.0\n"
     ]
    }
   ],
   "source": [
    "#for test set\n",
    "#checking the number of false and true positives\n",
    "exam = np.zeros((1,150))\n",
    "exam1 = np.zeros((1,150))\n",
    "exam2 = np.zeros((1,150))\n",
    "exam3 = np.zeros((1,150))\n",
    "exam = test - Y_test_final\n",
    "exam1 = np.copy(exam)\n",
    "exam2 = np.copy(exam)\n",
    "exam1[exam1==-1]=0\n",
    "exam[exam==1]=0\n",
    "\n",
    "fp = np.sum(exam1)\n",
    "fn = np.sum(exam)\n",
    "fn = -1 * fn\n",
    "\n",
    "exam2[exam2==-1]=1\n",
    "\n",
    "corr = 150-np.sum(exam2)\n",
    "\n",
    "exam3 = test * Y_test_final\n",
    "\n",
    "tp = np.sum(exam3)\n",
    "tn = corr-tp\n",
    "print(\"for the Test Set\")\n",
    "print(\"false Positives=\"+ str(fp))\n",
    "print(\"False Negatives=\"+ str(fn))\n",
    "print(\"correct=\"+ str(corr))\n",
    "print(\"True Positives=\"+ str(tp))\n",
    "print(\"True Negatives=\"+ str(tn))\n"
   ]
  },
  {
   "cell_type": "code",
   "execution_count": 55,
   "metadata": {
    "colab": {
     "base_uri": "https://localhost:8080/",
     "height": 102
    },
    "colab_type": "code",
    "id": "YRE3G1R4hS7Z",
    "outputId": "6c486d02-b4fa-4867-fb21-fa7ff37deeb4"
   },
   "outputs": [
    {
     "name": "stdout",
     "output_type": "stream",
     "text": [
      "false positives=0.0\n",
      "false negatives=378.0\n",
      "correct=708.0\n",
      "true positives=0.0\n",
      "true negatives=708.0\n"
     ]
    }
   ],
   "source": [
    "#for train set\n",
    "#checking the number of false and true positives\n",
    "examT = np.zeros((1,1086))\n",
    "exam1T = np.zeros((1,1086))\n",
    "exam2T = np.zeros((1,1086))\n",
    "exam3T = np.zeros((1,1086))\n",
    "examT = train1 - Y_train_final\n",
    "exam1T = np.copy(examT)\n",
    "exam2T = np.copy(examT)\n",
    "exam1T[exam1T==-1]=0\n",
    "examT[examT==1]=0\n",
    "\n",
    "fp1 = np.sum(exam1T)\n",
    "fn1 = np.sum(examT)\n",
    "fn1 = -1 * fn1\n",
    "\n",
    "exam2T[exam2T==-1]=1\n",
    "\n",
    "corr1 = 1086-np.sum(exam2T)\n",
    "\n",
    "exam3T = train1 * Y_train_final\n",
    "\n",
    "tp1 = np.sum(exam3T)\n",
    "tn1 = corr1-tp1\n",
    "print(\"false positives=\"+ str(fp1))\n",
    "print(\"false negatives=\"+ str(fn1))\n",
    "print(\"correct=\"+ str(corr1))\n",
    "print(\"true positives=\"+ str(tp1))\n",
    "print(\"true negatives=\"+ str(tn1))"
   ]
  },
  {
   "cell_type": "markdown",
   "metadata": {
    "colab_type": "text",
    "id": "g7Ib13mRR6BG"
   },
   "source": [
    "**Graph for the reducing loss of the training set**"
   ]
  },
  {
   "cell_type": "code",
   "execution_count": 74,
   "metadata": {
    "colab": {
     "base_uri": "https://localhost:8080/",
     "height": 294
    },
    "colab_type": "code",
    "id": "WhSoWZK8R6BG",
    "outputId": "c00a31ae-1c8e-480f-934f-3cc577a0709d"
   },
   "outputs": [
    {
     "data": {
      "image/png": "[encoded data removed]",
      "text/plain": [
       "<matplotlib.figure.Figure at 0x7f7eb506d160>"
      ]
     },
     "metadata": {
      "tags": []
     },
     "output_type": "display_data"
    }
   ],
   "source": [
    "costs = np.squeeze(cst)\n",
    "plt.plot(costs)\n",
    "plt.ylabel('cost')\n",
    "plt.xlabel('iterations (per hundreds)')\n",
    "plt.title(\"Learning rate =\" + str(0.01))\n",
    "plt.show()"
   ]
  },
  {
   "cell_type": "markdown",
   "metadata": {
    "colab": {},
    "colab_type": "code",
    "id": "YXHpQ7pRmJAk"
   },
   "source": [
    "# END #"
   ]
  }
 ],
 "metadata": {
  "accelerator": "GPU",
  "colab": {
   "collapsed_sections": [],
   "name": "Scrap_prediction_python.ipynb",
   "provenance": [],
   "version": "0.3.2"
  },
  "kernelspec": {
   "display_name": "Python 2",
   "language": "python",
   "name": "python2"
  },
  "language_info": {
   "codemirror_mode": {
    "name": "ipython",
    "version": 2
   },
   "file_extension": ".py",
   "mimetype": "text/x-python",
   "name": "python",
   "nbconvert_exporter": "python",
   "pygments_lexer": "ipython2",
   "version": "2.7.15"
  }
 },
 "nbformat": 4,
 "nbformat_minor": 1
}

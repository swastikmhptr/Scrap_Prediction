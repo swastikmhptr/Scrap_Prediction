{
 "cells": [
  {
   "cell_type": "markdown",
   "metadata": {
    "colab_type": "text",
    "id": "EFN3oPLCYlxy"
   },
   "source": [
    "# Scrap predicton"
   ]
  },
  {
   "cell_type": "code",
   "execution_count": 0,
   "metadata": {
    "colab": {},
    "colab_type": "code",
    "id": "dZBlNV01Ylx8"
   },
   "outputs": [],
   "source": [
    "%matplotlib inline\n",
    "import pandas as pd\n",
    "import numpy as np\n",
    "import matplotlib.pyplot as plt"
   ]
  },
  {
   "cell_type": "code",
   "execution_count": 103,
   "metadata": {
    "colab": {
     "base_uri": "https://localhost:8080/",
     "height": 204
    },
    "colab_type": "code",
    "id": "Avdsqc8eYly7",
    "outputId": "a365d496-204d-4658-999f-ce4796d10e03"
   },
   "outputs": [
    {
     "data": {
      "text/html": [
       "<div>\n",
       "<style scoped>\n",
       "    .dataframe tbody tr th:only-of-type {\n",
       "        vertical-align: middle;\n",
       "    }\n",
       "\n",
       "    .dataframe tbody tr th {\n",
       "        vertical-align: top;\n",
       "    }\n",
       "\n",
       "    .dataframe thead th {\n",
       "        text-align: right;\n",
       "    }\n",
       "</style>\n",
       "<table border=\"1\" class=\"dataframe\">\n",
       "  <thead>\n",
       "    <tr style=\"text-align: right;\">\n",
       "      <th></th>\n",
       "      <th>OPERATION_PRODUCT</th>\n",
       "      <th>OPERATION_ID</th>\n",
       "      <th>EMPLOYEE_ID</th>\n",
       "      <th>MACHINE_CODE</th>\n",
       "      <th>SHIFT</th>\n",
       "      <th>HOUR</th>\n",
       "      <th>OT_FLAG</th>\n",
       "      <th>PLANED_QUANTITY</th>\n",
       "      <th>PM_EMPLOYEE_ID</th>\n",
       "      <th>IS_SCRAP</th>\n",
       "    </tr>\n",
       "  </thead>\n",
       "  <tbody>\n",
       "    <tr>\n",
       "      <th>0</th>\n",
       "      <td>F6A01513.BLANK_2_HOLES_PIERCE</td>\n",
       "      <td>O0089</td>\n",
       "      <td>E1036</td>\n",
       "      <td>PP04</td>\n",
       "      <td>General</td>\n",
       "      <td>2</td>\n",
       "      <td>0</td>\n",
       "      <td>590</td>\n",
       "      <td>E1043</td>\n",
       "      <td>1</td>\n",
       "    </tr>\n",
       "    <tr>\n",
       "      <th>1</th>\n",
       "      <td>F7182114.SPOT_WELD</td>\n",
       "      <td>O0068</td>\n",
       "      <td>E1051</td>\n",
       "      <td>SW01</td>\n",
       "      <td>General</td>\n",
       "      <td>1</td>\n",
       "      <td>0</td>\n",
       "      <td>989</td>\n",
       "      <td>E1060</td>\n",
       "      <td>1</td>\n",
       "    </tr>\n",
       "    <tr>\n",
       "      <th>2</th>\n",
       "      <td>FA974313.TRIM</td>\n",
       "      <td>O0072</td>\n",
       "      <td>E1036</td>\n",
       "      <td>PP02</td>\n",
       "      <td>General</td>\n",
       "      <td>1</td>\n",
       "      <td>0</td>\n",
       "      <td>629</td>\n",
       "      <td>E1043</td>\n",
       "      <td>1</td>\n",
       "    </tr>\n",
       "    <tr>\n",
       "      <th>3</th>\n",
       "      <td>B0Y17741.BLANK_HOLE_PIERCE</td>\n",
       "      <td>O0095</td>\n",
       "      <td>E1032</td>\n",
       "      <td>PP02</td>\n",
       "      <td>General</td>\n",
       "      <td>2</td>\n",
       "      <td>0</td>\n",
       "      <td>1008</td>\n",
       "      <td>E1043</td>\n",
       "      <td>1</td>\n",
       "    </tr>\n",
       "    <tr>\n",
       "      <th>4</th>\n",
       "      <td>FA974313.FORM</td>\n",
       "      <td>O0041</td>\n",
       "      <td>E1037</td>\n",
       "      <td>PP03</td>\n",
       "      <td>General</td>\n",
       "      <td>1</td>\n",
       "      <td>0</td>\n",
       "      <td>637</td>\n",
       "      <td>E1043</td>\n",
       "      <td>1</td>\n",
       "    </tr>\n",
       "  </tbody>\n",
       "</table>\n",
       "</div>"
      ],
      "text/plain": [
       "               OPERATION_PRODUCT OPERATION_ID EMPLOYEE_ID MACHINE_CODE  \\\n",
       "0  F6A01513.BLANK_2_HOLES_PIERCE        O0089      E1036          PP04   \n",
       "1             F7182114.SPOT_WELD        O0068      E1051          SW01   \n",
       "2                  FA974313.TRIM        O0072      E1036          PP02   \n",
       "3     B0Y17741.BLANK_HOLE_PIERCE        O0095      E1032          PP02   \n",
       "4                  FA974313.FORM        O0041      E1037          PP03   \n",
       "\n",
       "     SHIFT  HOUR  OT_FLAG  PLANED_QUANTITY PM_EMPLOYEE_ID  IS_SCRAP  \n",
       "0  General     2        0              590          E1043         1  \n",
       "1  General     1        0              989          E1060         1  \n",
       "2  General     1        0              629          E1043         1  \n",
       "3  General     2        0             1008          E1043         1  \n",
       "4  General     1        0              637          E1043         1  "
      ]
     },
     "execution_count": 103,
     "metadata": {
      "tags": []
     },
     "output_type": "execute_result"
    }
   ],
   "source": [
    "d1 = pd.read_csv(\"data/scrap_data.csv\",encoding='cp437')\n",
    "d1.head()"
   ]
  },
  {
   "cell_type": "markdown",
   "metadata": {
    "colab_type": "text",
    "id": "RlJqbgBtBSPG"
   },
   "source": [
    "# Label Encoding Categorical columns"
   ]
  },
  {
   "cell_type": "code",
   "execution_count": 104,
   "metadata": {
    "colab": {
     "base_uri": "https://localhost:8080/",
     "height": 204
    },
    "colab_type": "code",
    "id": "lf4IOLmaBGPr",
    "outputId": "2a23add9-6277-49b1-f135-a72da406c295"
   },
   "outputs": [
    {
     "data": {
      "text/plain": [
       "OPERATION_PRODUCT    category\n",
       "OPERATION_ID         category\n",
       "EMPLOYEE_ID          category\n",
       "MACHINE_CODE         category\n",
       "SHIFT                category\n",
       "HOUR                    int64\n",
       "OT_FLAG                 int64\n",
       "PLANED_QUANTITY         int64\n",
       "PM_EMPLOYEE_ID       category\n",
       "IS_SCRAP                int64\n",
       "dtype: object"
      ]
     },
     "execution_count": 104,
     "metadata": {
      "tags": []
     },
     "output_type": "execute_result"
    }
   ],
   "source": [
    "d1[\"OPERATION_PRODUCT\"] = d1[\"OPERATION_PRODUCT\"].astype('category')\n",
    "d1[\"OPERATION_ID\"] = d1[\"OPERATION_ID\"].astype('category')\n",
    "d1[\"EMPLOYEE_ID\"] = d1[\"EMPLOYEE_ID\"].astype('category')\n",
    "d1[\"MACHINE_CODE\"] = d1[\"MACHINE_CODE\"].astype('category')\n",
    "d1[\"SHIFT\"] = d1[\"SHIFT\"].astype('category')\n",
    "d1[\"PM_EMPLOYEE_ID\"] = d1[\"PM_EMPLOYEE_ID\"].astype('category')\n",
    "d1.dtypes"
   ]
  },
  {
   "cell_type": "code",
   "execution_count": 105,
   "metadata": {
    "colab": {
     "base_uri": "https://localhost:8080/",
     "height": 2176
    },
    "colab_type": "code",
    "id": "nhSSgggCBbpY",
    "outputId": "b89c9526-5287-4a6c-b3b0-5cdec8938ed5"
   },
   "outputs": [
    {
     "name": "stdout",
     "output_type": "stream",
     "text": [
      "      OPERATION_PRODUCT  OPERATION_ID  EMPLOYEE_ID  MACHINE_CODE  SHIFT  HOUR  \\\n",
      "0                   297            44           31            17      0     2   \n",
      "1                   309            32           43            30      0     1   \n",
      "2                   327            36           31            15      0     1   \n",
      "3                   153            49           26            15      0     2   \n",
      "4                   326            21           33            16      0     1   \n",
      "5                   119             3           36             4      0     1   \n",
      "6                   149            49           26            15      0     1   \n",
      "7                   100            28           15            28      0     3   \n",
      "8                   100            28           11            28      0     6   \n",
      "9                    12            16            5             1      0     2   \n",
      "10                   31            17           10            26      0     5   \n",
      "11                  163            44           31            17      0     1   \n",
      "12                   49            10           29             2      0     3   \n",
      "13                   98            26           45            14      0     2   \n",
      "14                   85             3           27             3      0     1   \n",
      "15                  100            28           41            28      0     2   \n",
      "16                   91            30           17            17      0     1   \n",
      "17                   31            17           10            22      0     1   \n",
      "18                   30            13           49             8      0     1   \n",
      "19                  203            11           24            18      0     2   \n",
      "20                  209            20           29             2      0     2   \n",
      "21                  206            50           20             2      0     1   \n",
      "22                   92            34            6            26      0     1   \n",
      "23                  247            11           13            19      0     1   \n",
      "24                  201            20           31            18      0     2   \n",
      "25                  263            20           38             2      0     2   \n",
      "26                   79            25           11            25      0     3   \n",
      "27                    9            43            5            25      0     1   \n",
      "28                   35             1            3             6      0     1   \n",
      "29                   53            23           46             7      0     2   \n",
      "...                 ...           ...          ...           ...    ...   ...   \n",
      "1206                100            28           15            28      0     2   \n",
      "1207                 97            23           46             7      0     2   \n",
      "1208                 97            23           46             7      0     3   \n",
      "1209                 42            15           47             9      0     2   \n",
      "1210                 42            15           47             9      0     3   \n",
      "1211                 41            13           47            10      0     2   \n",
      "1212                303            72           30            16      0     1   \n",
      "1213                101            34            5            22      0     1   \n",
      "1214                101            34            5            22      0     2   \n",
      "1215                135            13           48            11      0     1   \n",
      "1216                108            11           14             0      0     1   \n",
      "1217                 44             1            2             4      1     1   \n",
      "1218                 44             1            2             4      1     2   \n",
      "1219                 48            33            0             3      1     1   \n",
      "1220                 48            33            0             3      1     2   \n",
      "1221                 48            33            0             3      1     3   \n",
      "1222                 46             3            2             5      1     1   \n",
      "1223                 46             3            2             5      1     3   \n",
      "1224                 45             2            0             5      1     1   \n",
      "1225                 45             2            0             5      1     2   \n",
      "1226                101            34            5            22      1     1   \n",
      "1227                101            34            5            22      1     3   \n",
      "1228                101            34            5            22      1     4   \n",
      "1229                101            34            5            22      1     5   \n",
      "1230                101            34            5            22      1     6   \n",
      "1231                101            34            5            22      1     8   \n",
      "1232                101            34            5            22      1     9   \n",
      "1233                 44             1            2             4      1     1   \n",
      "1234                241            77           30            15      0     1   \n",
      "1235                239            70           30            17      0     1   \n",
      "\n",
      "      OT_FLAG  PLANED_QUANTITY  PM_EMPLOYEE_ID  IS_SCRAP  \n",
      "0           0              590               5         1  \n",
      "1           0              989               6         1  \n",
      "2           0              629               5         1  \n",
      "3           0             1008               5         1  \n",
      "4           0              637               5         1  \n",
      "5           0              200               5         1  \n",
      "6           0             1008               3         1  \n",
      "7           0              458               0         1  \n",
      "8           0             1352               0         1  \n",
      "9           0              600               0         1  \n",
      "10          0              158               0         1  \n",
      "11          0              780               5         1  \n",
      "12          0             1456               5         1  \n",
      "13          0              180               0         1  \n",
      "14          0              670               5         1  \n",
      "15          0              142               0         1  \n",
      "16          0             1035               3         1  \n",
      "17          0              202               0         1  \n",
      "18          0              272               0         1  \n",
      "19          0              672               5         1  \n",
      "20          0              672               5         1  \n",
      "21          0              671               5         1  \n",
      "22          0              882               0         1  \n",
      "23          0             1090               5         1  \n",
      "24          0              583               5         1  \n",
      "25          0              500               5         1  \n",
      "26          0              787               0         1  \n",
      "27          0               70               0         1  \n",
      "28          0             1471               3         1  \n",
      "29          0              602               0         1  \n",
      "...       ...              ...             ...       ...  \n",
      "1206        0              240               0         0  \n",
      "1207        0              240               0         0  \n",
      "1208        0              453               0         0  \n",
      "1209        0              300               0         0  \n",
      "1210        0              350               0         0  \n",
      "1211        0              300               0         0  \n",
      "1212        0              357               5         0  \n",
      "1213        0              180               0         0  \n",
      "1214        0              240               0         0  \n",
      "1215        0              186               0         0  \n",
      "1216        0             2400               4         0  \n",
      "1217        0              150               5         0  \n",
      "1218        0              150               5         0  \n",
      "1219        0              150               5         0  \n",
      "1220        0              150               5         0  \n",
      "1221        0              150               5         0  \n",
      "1222        0              150               5         0  \n",
      "1223        0              150               5         0  \n",
      "1224        0              150               5         0  \n",
      "1225        0              150               5         0  \n",
      "1226        0              220               5         0  \n",
      "1227        0              250               5         0  \n",
      "1228        0              250               5         0  \n",
      "1229        0              250               5         0  \n",
      "1230        0              300               5         0  \n",
      "1231        0              350               5         0  \n",
      "1232        1              200               5         0  \n",
      "1233        0              150               5         0  \n",
      "1234        0               10               1         0  \n",
      "1235        0               10               1         0  \n",
      "\n",
      "[1236 rows x 10 columns]\n"
     ]
    }
   ],
   "source": [
    "d1[\"OPERATION_PRODUCT\"] = d1[\"OPERATION_PRODUCT\"].cat.codes\n",
    "d1[\"OPERATION_ID\"] = d1[\"OPERATION_ID\"].cat.codes\n",
    "d1[\"EMPLOYEE_ID\"] = d1[\"EMPLOYEE_ID\"].cat.codes\n",
    "d1[\"MACHINE_CODE\"] = d1[\"MACHINE_CODE\"].cat.codes\n",
    "d1[\"SHIFT\"] = d1[\"SHIFT\"].cat.codes\n",
    "d1[\"PM_EMPLOYEE_ID\"] = d1[\"PM_EMPLOYEE_ID\"].cat.codes\n",
    "print(d1)"
   ]
  },
  {
   "cell_type": "code",
   "execution_count": 106,
   "metadata": {
    "colab": {
     "base_uri": "https://localhost:8080/",
     "height": 119
    },
    "colab_type": "code",
    "id": "pOrn4yptYlzI",
    "outputId": "1dc11614-1816-4d8f-8024-9dba85be48f1"
   },
   "outputs": [
    {
     "data": {
      "text/plain": [
       "0    1\n",
       "1    1\n",
       "2    1\n",
       "3    1\n",
       "4    1\n",
       "Name: IS_SCRAP, dtype: int64"
      ]
     },
     "execution_count": 106,
     "metadata": {
      "tags": []
     },
     "output_type": "execute_result"
    }
   ],
   "source": [
    "d1['IS_SCRAP'].head()"
   ]
  },
  {
   "cell_type": "code",
   "execution_count": 107,
   "metadata": {
    "colab": {
     "base_uri": "https://localhost:8080/",
     "height": 272
    },
    "colab_type": "code",
    "id": "QulMNuymYl0x",
    "outputId": "fed61566-20d6-4e4d-8225-cc8f53a76ded"
   },
   "outputs": [
    {
     "name": "stdout",
     "output_type": "stream",
     "text": [
      "<class 'pandas.core.frame.DataFrame'>\n",
      "RangeIndex: 1236 entries, 0 to 1235\n",
      "Data columns (total 10 columns):\n",
      "OPERATION_PRODUCT    1236 non-null int16\n",
      "OPERATION_ID         1236 non-null int8\n",
      "EMPLOYEE_ID          1236 non-null int8\n",
      "MACHINE_CODE         1236 non-null int8\n",
      "SHIFT                1236 non-null int8\n",
      "HOUR                 1236 non-null int64\n",
      "OT_FLAG              1236 non-null int64\n",
      "PLANED_QUANTITY      1236 non-null int64\n",
      "PM_EMPLOYEE_ID       1236 non-null int8\n",
      "IS_SCRAP             1236 non-null int64\n",
      "dtypes: int16(1), int64(4), int8(5)\n",
      "memory usage: 47.2 KB\n"
     ]
    }
   ],
   "source": [
    "d1.info()"
   ]
  },
  {
   "cell_type": "code",
   "execution_count": 108,
   "metadata": {
    "colab": {
     "base_uri": "https://localhost:8080/",
     "height": 34
    },
    "colab_type": "code",
    "id": "5R59pVjmYl0I",
    "outputId": "b6c9ee06-5623-4985-8df4-88648cc6567b"
   },
   "outputs": [
    {
     "data": {
      "text/plain": [
       "(1236, 10)"
      ]
     },
     "execution_count": 108,
     "metadata": {
      "tags": []
     },
     "output_type": "execute_result"
    }
   ],
   "source": [
    "d1.shape"
   ]
  },
  {
   "cell_type": "markdown",
   "metadata": {
    "colab_type": "text",
    "id": "hAw7bTOGYl06"
   },
   "source": [
    "### Seperating features and labels"
   ]
  },
  {
   "cell_type": "code",
   "execution_count": 0,
   "metadata": {
    "colab": {},
    "colab_type": "code",
    "id": "6fn4hzChYl09"
   },
   "outputs": [],
   "source": [
    "d1, d1_labels = d1.drop(['IS_SCRAP'], axis=1), d1['IS_SCRAP']"
   ]
  },
  {
   "cell_type": "markdown",
   "metadata": {
    "colab_type": "text",
    "id": "nKoQkiHBYl1F"
   },
   "source": [
    "# 1. Preprocessing Data\n",
    " - 1.1 Transformation\n",
    " - 1.2 Reduction by PCA"
   ]
  },
  {
   "cell_type": "markdown",
   "metadata": {
    "colab_type": "text",
    "id": "7tFrsOznYl2z"
   },
   "source": [
    "## 1.1 Transformation"
   ]
  },
  {
   "cell_type": "markdown",
   "metadata": {
    "colab_type": "text",
    "id": "TsMgnqO_Yl22"
   },
   "source": [
    "### Normalize data"
   ]
  },
  {
   "cell_type": "code",
   "execution_count": 0,
   "metadata": {
    "colab": {},
    "colab_type": "code",
    "id": "ddaYBq3hYl26"
   },
   "outputs": [],
   "source": [
    "from sklearn.preprocessing import StandardScaler"
   ]
  },
  {
   "cell_type": "code",
   "execution_count": 0,
   "metadata": {
    "colab": {},
    "colab_type": "code",
    "id": "b7vQESrWYl3A"
   },
   "outputs": [],
   "source": [
    "X = StandardScaler().fit_transform(d1)"
   ]
  },
  {
   "cell_type": "code",
   "execution_count": 112,
   "metadata": {
    "colab": {
     "base_uri": "https://localhost:8080/",
     "height": 34
    },
    "colab_type": "code",
    "id": "CkdkocZQYl3I",
    "outputId": "92acd42b-e486-49a0-c820-894c55e1e45c"
   },
   "outputs": [
    {
     "data": {
      "text/plain": [
       "(1236, 9)"
      ]
     },
     "execution_count": 112,
     "metadata": {
      "tags": []
     },
     "output_type": "execute_result"
    }
   ],
   "source": [
    "X.shape"
   ]
  },
  {
   "cell_type": "markdown",
   "metadata": {
    "colab_type": "text",
    "id": "IveIFJ3AYl3R"
   },
   "source": [
    "## 1.3 Reduction"
   ]
  },
  {
   "cell_type": "markdown",
   "metadata": {
    "colab_type": "text",
    "id": "KS__KGnoYl3T"
   },
   "source": [
    "### PCA\n",
    " - this used to find out what is fairly good value for n_components according to the Explained Variance Ratio\n",
    " - Dimensions are then reduced by the n_components"
   ]
  },
  {
   "cell_type": "code",
   "execution_count": 114,
   "metadata": {
    "colab": {
     "base_uri": "https://localhost:8080/",
     "height": 280
    },
    "colab_type": "code",
    "id": "GwYR8T3SYl3W",
    "outputId": "3d331f6f-49ad-421a-bc57-e6769234c78e"
   },
   "outputs": [
    {
     "data": {
      "image/png": "[encoded data removed]",
      "text/plain": [
       "<matplotlib.figure.Figure at 0x7f84e9da2c88>"
      ]
     },
     "metadata": {
      "tags": []
     },
     "output_type": "display_data"
    }
   ],
   "source": [
    "#PCA In Sklearn\n",
    "from sklearn.decomposition import PCA\n",
    "\n",
    "pca_full = PCA(n_components = None)\n",
    "pca_full.fit(X)\n",
    "\n",
    "plt.plot(range(0,9), pca_full.explained_variance_ratio_)\n",
    "plt.ylabel('Explained variance ratio')\n",
    "plt.xlabel('Principal components')\n",
    "#plt.xticks(np.arange(0,100,5))\n",
    "plt.show()"
   ]
  },
  {
   "cell_type": "markdown",
   "metadata": {
    "colab_type": "text",
    "id": "KEnS0APeYl3u"
   },
   "source": [
    "#### From above figure, we will choose 6 as the dimensions of Principal components."
   ]
  },
  {
   "cell_type": "code",
   "execution_count": 115,
   "metadata": {
    "colab": {
     "base_uri": "https://localhost:8080/",
     "height": 170
    },
    "colab_type": "code",
    "id": "l94nGnU2Yl39",
    "outputId": "60521e7b-4fb3-43fa-847c-dadc891a6b04"
   },
   "outputs": [
    {
     "name": "stdout",
     "output_type": "stream",
     "text": [
      "[[ 2.15828689  0.99535894 -0.22508156 -0.37421799  0.15143552  0.15006536]\n",
      " [ 2.22199109  0.82580884 -0.71605667 -0.33776326  0.32475173  1.26627438]\n",
      " [ 2.45350261  0.53225356 -0.15195852 -0.34311331  0.02180765  0.03527933]\n",
      " ...\n",
      " [-0.55757379 -1.54349543  3.57832305 -1.95618552 -1.05726336  0.33083678]\n",
      " [ 1.68905301  1.48924692 -1.52409844 -0.94583371 -0.38876837  0.40616995]\n",
      " [ 1.48804504  1.39855264 -1.50672892 -0.8895801  -0.43127326  0.40839854]]\n",
      "\n",
      "[0.21865662 0.17004478 0.1573444  0.13050065 0.10961463 0.0669199 ]\n"
     ]
    }
   ],
   "source": [
    "x_scaled = StandardScaler().fit_transform(X)\n",
    "pca = PCA(n_components = 6)\n",
    "x_pca = pca.fit_transform(x_scaled)\n",
    "print(x_pca, end = '\\n\\n')\n",
    "print(pca.explained_variance_ratio_)"
   ]
  },
  {
   "cell_type": "code",
   "execution_count": 116,
   "metadata": {
    "colab": {
     "base_uri": "https://localhost:8080/",
     "height": 34
    },
    "colab_type": "code",
    "id": "-oNRxvzUYl4H",
    "outputId": "2523a56c-d2e5-4c6e-e63f-06e2529a1b09"
   },
   "outputs": [
    {
     "data": {
      "text/plain": [
       "0.8530809722681653"
      ]
     },
     "execution_count": 116,
     "metadata": {
      "tags": []
     },
     "output_type": "execute_result"
    }
   ],
   "source": [
    "sum(pca.explained_variance_ratio_)"
   ]
  },
  {
   "cell_type": "code",
   "execution_count": 117,
   "metadata": {
    "colab": {
     "base_uri": "https://localhost:8080/",
     "height": 34
    },
    "colab_type": "code",
    "id": "B1YM9IEBYl4Q",
    "outputId": "a4651bcb-2a6e-4e3c-b44d-844304ce65cb"
   },
   "outputs": [
    {
     "data": {
      "text/plain": [
       "(1236, 6)"
      ]
     },
     "execution_count": 117,
     "metadata": {
      "tags": []
     },
     "output_type": "execute_result"
    }
   ],
   "source": [
    "x_pca.shape"
   ]
  },
  {
   "cell_type": "markdown",
   "metadata": {
    "colab_type": "text",
    "id": "IxpqMswnYl4b"
   },
   "source": [
    "# 2. Model Training\n",
    " - 2.1 Manually made neural network\n",
    " - 2.2 Tensorflow\n",
    " - 2.3 SVM\n",
    " - 2.3 Logistic regression"
   ]
  },
  {
   "cell_type": "markdown",
   "metadata": {
    "colab_type": "text",
    "id": "DqZAKx8jYl4j"
   },
   "source": [
    "### Train and Test split"
   ]
  },
  {
   "cell_type": "code",
   "execution_count": 0,
   "metadata": {
    "colab": {},
    "colab_type": "code",
    "id": "KAu-ONotYl4m"
   },
   "outputs": [],
   "source": [
    "from sklearn.model_selection import train_test_split\n",
    "\n",
    "X_train, X_test, y_train, y_test = train_test_split(x_pca, d1_labels, test_size=0.15, random_state=0)"
   ]
  },
  {
   "cell_type": "code",
   "execution_count": 119,
   "metadata": {
    "colab": {
     "base_uri": "https://localhost:8080/",
     "height": 34
    },
    "colab_type": "code",
    "id": "jHM2mIYTYl4r",
    "outputId": "95265320-a2f3-4451-a2bf-b53007382f1f"
   },
   "outputs": [
    {
     "data": {
      "text/plain": [
       "(1050, 6)"
      ]
     },
     "execution_count": 119,
     "metadata": {
      "tags": []
     },
     "output_type": "execute_result"
    }
   ],
   "source": [
    "X_train.shape"
   ]
  },
  {
   "cell_type": "code",
   "execution_count": 120,
   "metadata": {
    "colab": {
     "base_uri": "https://localhost:8080/",
     "height": 238
    },
    "colab_type": "code",
    "id": "XOGYL2Q8Yl44",
    "outputId": "f68eaf0b-f052-4d60-8c27-2513dfabeb20"
   },
   "outputs": [
    {
     "data": {
      "text/plain": [
       "array([[ 1.03403981, -1.39573999,  0.91476656,  0.52522839, -0.93183466,\n",
       "        -0.66555578],\n",
       "       [ 0.6303657 ,  0.12215611, -0.93896619, -0.03785898, -0.63198924,\n",
       "         0.1474626 ],\n",
       "       [ 0.09036197, -0.4671592 , -1.11138188,  0.86679088, -1.17279392,\n",
       "         0.91042225],\n",
       "       ...,\n",
       "       [ 1.21536472, -2.42437759,  0.98311713,  1.01155634,  1.73066621,\n",
       "        -0.1135834 ],\n",
       "       [-1.56767972,  1.14494384, -0.56918906, -0.05213318,  0.22963658,\n",
       "        -0.51622093],\n",
       "       [-1.35655635, -0.44901488, -0.47719188,  0.03886544, -0.0259929 ,\n",
       "        -0.47816656]])"
      ]
     },
     "execution_count": 120,
     "metadata": {
      "tags": []
     },
     "output_type": "execute_result"
    }
   ],
   "source": [
    "X_train"
   ]
  },
  {
   "cell_type": "markdown",
   "metadata": {
    "colab_type": "text",
    "id": "irlGYoqIYl5F"
   },
   "source": [
    "## 2.1 Manual Neural Network\n",
    " - 2.1.1 Structure of Neural Network\n",
    " - 2.1.2 Setting up the hyperparameters, train the NN and evaluate\n",
    " - 2.1.3  SGD method to improve the accuracy"
   ]
  },
  {
   "cell_type": "markdown",
   "metadata": {
    "colab_type": "text",
    "id": "nfy-vTx0Yl5G"
   },
   "source": [
    "### 2.1.1 Structure of the neural network"
   ]
  },
  {
   "cell_type": "code",
   "execution_count": 0,
   "metadata": {
    "colab": {},
    "colab_type": "code",
    "id": "okOYCkBKYl5I"
   },
   "outputs": [],
   "source": [
    "class MyNeuralNetwork(object):\n",
    "    def __init__(self, input_nodes, hidden_nodes, output_nodes, learning_rate):\n",
    "    \n",
    "        self.input_nodes =  input_nodes\n",
    "        self.hidden_nodes = hidden_nodes\n",
    "        self.output_nodes = output_nodes\n",
    "\n",
    "        # Initialize weights\n",
    "        self.weights_0_1 = np.zeros((self.hidden_nodes,self.input_nodes))\n",
    "\n",
    "        self.weights_1_2 = np.random.normal(0.0, self.output_nodes**-0.5, \n",
    "                                       (self.output_nodes, self.hidden_nodes))\n",
    "        self.lr = learning_rate\n",
    "        \n",
    "       \n",
    "        # Activation function is the sigmoid function\n",
    "        self.sigmoid_activation = lambda x : 1 / (1 + np.exp(-x))\n",
    "        self.sigmoid_output_2_derivative = lambda x: x * (1 - x)\n",
    "    \n",
    "    def train(self, inputs_array, targets_array):\n",
    "        # Converting inputs list to 2d array\n",
    "        inputs  = inputs_array.T\n",
    "        targets = np.array(targets_array, ndmin=2)\n",
    "        #targets = targets_array\n",
    "        m = inputs_array.shape[0] # number of records\n",
    "        \n",
    "  \n",
    "        ### Forward pass ###\n",
    "        \n",
    "        layer_1_inputs = np.dot(self.weights_0_1, inputs) # signals into hidden layer\n",
    "        layer_1 = layer_1_inputs # signals from hidden layer\n",
    "        \n",
    "       \n",
    "        layer_2_inputs = np.dot(self.weights_1_2,layer_1) # signals into final output layer\n",
    "        layer_2 = self.sigmoid_activation(layer_2_inputs) # signals from final output layer\n",
    "        \n",
    "       \n",
    "        ### Backward pass ###\n",
    "        \n",
    "         \n",
    "        layer_2_errors = targets - layer_2  # Output layer error is the difference between desired target and actual output.\n",
    "        layer_2_delta = layer_2_errors * self.sigmoid_output_2_derivative(layer_2)\n",
    "        \n",
    "        \n",
    "        layer_1_errors = np.dot(self.weights_1_2.T,layer_2_delta) # errors propagated to the hidden layer 2x128\n",
    "        layer_1_delta = layer_1_errors  # hidden layer gradients y = x -> 1\n",
    "        \n",
    "   \n",
    "        self.weights_1_2 += self.lr*np.dot(layer_2_delta,layer_1.T)/m # update hidden-to-output weights with gradient descent step\n",
    "        self.weights_0_1 += self.lr*np.dot(layer_1_delta,inputs.T)/m # update input-to-hidden weights with gradient descent step\n",
    "         \n",
    "        \n",
    "    def run(self, inputs_list):\n",
    "        # forward pass through the network\n",
    "        inputs = np.array(inputs_list, ndmin=2).T\n",
    "     \n",
    "        hidden_inputs = np.dot(self.weights_0_1, inputs) # signals into hidden layer\n",
    "        hidden_outputs = hidden_inputs # signals from hidden layer\n",
    "        \n",
    "        final_inputs = np.dot(self.weights_1_2,hidden_outputs) # signals into final output layer\n",
    "        final_outputs = self.sigmoid_activation(final_inputs) # signals from final output layer \n",
    "        \n",
    "        return final_outputs"
   ]
  },
  {
   "cell_type": "markdown",
   "metadata": {
    "colab_type": "text",
    "id": "RNGI1_O7Yl5Q"
   },
   "source": [
    "### 2.1.2 Training and evaluation"
   ]
  },
  {
   "cell_type": "code",
   "execution_count": 122,
   "metadata": {
    "colab": {
     "base_uri": "https://localhost:8080/",
     "height": 34
    },
    "colab_type": "code",
    "id": "IEBGeJOrYl5R",
    "outputId": "cb72d41f-c57d-4967-ccf9-2bac6f9fe7fc"
   },
   "outputs": [
    {
     "name": "stdout",
     "output_type": "stream",
     "text": [
      "0.4946236559139785\n"
     ]
    }
   ],
   "source": [
    "from sklearn import metrics\n",
    "### Setting the hyperparameters ###\n",
    "epochs = 100 #100\n",
    "learning_rate = 0.01 #0.1\n",
    "hidden_nodes = 10 \n",
    "output_nodes = 1\n",
    "\n",
    "N_i = X_train.shape[1]\n",
    "network = MyNeuralNetwork(N_i, hidden_nodes, output_nodes, learning_rate)\n",
    "\n",
    "for e in range(epochs):\n",
    "    network.train(X_train, y_train)\n",
    "    \n",
    "y_pred = network.run(X_test)\n",
    "y_pred = np.where(y_pred >= 0.5, 1, 0) # if probability >= 0.5, it is 1, else 0\n",
    "\n",
    "print(metrics.accuracy_score(y_test,y_pred[0]))"
   ]
  },
  {
   "cell_type": "markdown",
   "metadata": {
    "colab_type": "text",
    "id": "pqh6KPexYl5Z"
   },
   "source": [
    "### 2.1.3 SGD"
   ]
  },
  {
   "cell_type": "code",
   "execution_count": 123,
   "metadata": {
    "colab": {
     "base_uri": "https://localhost:8080/",
     "height": 136
    },
    "colab_type": "code",
    "id": "6CiLLgFNYl5a",
    "outputId": "987d9dc0-6a3e-435e-f102-8556fd0831c0"
   },
   "outputs": [
    {
     "name": "stderr",
     "output_type": "stream",
     "text": [
      "/usr/local/lib/python3.6/dist-packages/pandas/core/series.py:696: FutureWarning: \n",
      "Passing list-likes to .loc or [] with any missing label will raise\n",
      "KeyError in the future, you can use .reindex() as an alternative.\n",
      "\n",
      "See the documentation here:\n",
      "http://pandas.pydata.org/pandas-docs/stable/indexing.html#deprecate-loc-reindex-listlike\n",
      "  return self.loc[key]\n"
     ]
    }
   ],
   "source": [
    "#N_i = X_train.shape[1]\n",
    "network = MyNeuralNetwork(N_i, hidden_nodes, output_nodes, learning_rate)\n",
    "\n",
    "random_row_idx = np.zeros(128)\n",
    "for e in range(epochs):\n",
    "    random_row_idx = np.random.choice(X_train.shape[0],size=128)\n",
    "    X_batch = X_train[random_row_idx,:]\n",
    "    y_batch = y_train[random_row_idx]\n",
    "    network.train(X_batch, y_batch)"
   ]
  },
  {
   "cell_type": "code",
   "execution_count": 124,
   "metadata": {
    "colab": {
     "base_uri": "https://localhost:8080/",
     "height": 68
    },
    "colab_type": "code",
    "id": "UBx_n0jdYl5g",
    "outputId": "669915c4-c8f1-4df2-8266-a436d9ecc255"
   },
   "outputs": [
    {
     "name": "stdout",
     "output_type": "stream",
     "text": [
      "0.6989247311827957\n"
     ]
    },
    {
     "name": "stderr",
     "output_type": "stream",
     "text": [
      "/usr/local/lib/python3.6/dist-packages/ipykernel_launcher.py:2: RuntimeWarning: invalid value encountered in greater_equal\n",
      "  \n"
     ]
    }
   ],
   "source": [
    "y_pred = network.run(X_test)\n",
    "y_pred = np.where(y_pred >= 0.5, 1, 0) # if probability >= 0.5, it is 1, else 0\n",
    "print(metrics.accuracy_score(y_test,y_pred[0]))"
   ]
  },
  {
   "cell_type": "markdown",
   "metadata": {
    "colab_type": "text",
    "id": "y_I3pUgoYl5s"
   },
   "source": [
    "#### Wow, SGD improves the accuracy dramatically !!!!"
   ]
  },
  {
   "cell_type": "markdown",
   "metadata": {
    "colab_type": "text",
    "id": "s33ApReXYl5u"
   },
   "source": [
    "## 2.2 Tensorflow"
   ]
  },
  {
   "cell_type": "code",
   "execution_count": 0,
   "metadata": {
    "colab": {},
    "colab_type": "code",
    "id": "PjvqtcdzYl5w"
   },
   "outputs": [],
   "source": [
    "import tensorflow as tf"
   ]
  },
  {
   "cell_type": "code",
   "execution_count": 126,
   "metadata": {
    "colab": {
     "base_uri": "https://localhost:8080/",
     "height": 530
    },
    "colab_type": "code",
    "id": "qrOp_lTeYl53",
    "outputId": "ccfbea53-5a09-42a9-a1cf-8302c356939d"
   },
   "outputs": [
    {
     "name": "stdout",
     "output_type": "stream",
     "text": [
      "WARNING:tensorflow:float64 is not supported by many models, consider casting to float32.\n",
      "INFO:tensorflow:Using default config.\n",
      "WARNING:tensorflow:Using temporary folder as model directory: /tmp/tmpw9a_flc7\n",
      "INFO:tensorflow:Using config: {'_task_type': None, '_task_id': 0, '_cluster_spec': <tensorflow.python.training.server_lib.ClusterSpec object at 0x7f84e9dacfd0>, '_master': '', '_num_ps_replicas': 0, '_num_worker_replicas': 0, '_environment': 'local', '_is_chief': True, '_evaluation_master': '', '_train_distribute': None, '_device_fn': None, '_tf_config': gpu_options {\n",
      "  per_process_gpu_memory_fraction: 1.0\n",
      "}\n",
      ", '_tf_random_seed': None, '_save_summary_steps': 100, '_save_checkpoints_secs': 600, '_log_step_count_steps': 100, '_session_config': None, '_save_checkpoints_steps': None, '_keep_checkpoint_max': 5, '_keep_checkpoint_every_n_hours': 10000, '_model_dir': '/tmp/tmpw9a_flc7'}\n",
      "WARNING:tensorflow:float64 is not supported by many models, consider casting to float32.\n",
      "WARNING:tensorflow:Casting <dtype: 'int64'> labels to bool.\n",
      "WARNING:tensorflow:Casting <dtype: 'int64'> labels to bool.\n",
      "WARNING:tensorflow:Trapezoidal rule is known to produce incorrect PR-AUCs; please switch to \"careful_interpolation\" instead.\n",
      "WARNING:tensorflow:Trapezoidal rule is known to produce incorrect PR-AUCs; please switch to \"careful_interpolation\" instead.\n",
      "INFO:tensorflow:Create CheckpointSaverHook.\n",
      "INFO:tensorflow:Graph was finalized.\n",
      "INFO:tensorflow:Running local_init_op.\n",
      "INFO:tensorflow:Done running local_init_op.\n",
      "INFO:tensorflow:Saving checkpoints for 0 into /tmp/tmpw9a_flc7/model.ckpt.\n",
      "INFO:tensorflow:loss = 0.68957865, step = 0\n",
      "INFO:tensorflow:global_step/sec: 46.9747\n",
      "INFO:tensorflow:loss = 0.64616305, step = 100 (2.131 sec)\n",
      "INFO:tensorflow:global_step/sec: 48.6573\n",
      "INFO:tensorflow:loss = 0.64258677, step = 200 (2.058 sec)\n",
      "INFO:tensorflow:Saving checkpoints for 300 into /tmp/tmpw9a_flc7/model.ckpt.\n",
      "INFO:tensorflow:Loss for final step: 0.64046115.\n",
      "WARNING:tensorflow:float64 is not supported by many models, consider casting to float32.\n",
      "INFO:tensorflow:Graph was finalized.\n",
      "INFO:tensorflow:Restoring parameters from /tmp/tmpw9a_flc7/model.ckpt-300\n",
      "INFO:tensorflow:Running local_init_op.\n",
      "INFO:tensorflow:Done running local_init_op.\n"
     ]
    }
   ],
   "source": [
    "# one layer DNN with 40 units respectively.\n",
    "feature_columns = tf.contrib.learn.infer_real_valued_columns_from_input(X_train)\n",
    "classifier = tf.contrib.learn.DNNClassifier(feature_columns=feature_columns, hidden_units=[40], n_classes=2)\n",
    "\n",
    "# Training and predicting.\n",
    "classifier.fit(X_train, y_train, steps=300)\n",
    "predictions = list(classifier.predict(X_test, as_iterable=True))\n",
    "score = metrics.accuracy_score(y_test, predictions)"
   ]
  },
  {
   "cell_type": "code",
   "execution_count": 37,
   "metadata": {
    "colab": {
     "base_uri": "https://localhost:8080/",
     "height": 34
    },
    "colab_type": "code",
    "id": "ZejGyPFLYl5_",
    "outputId": "554aec63-01b8-4328-9f7a-7e6df7895b6e"
   },
   "outputs": [
    {
     "name": "stdout",
     "output_type": "stream",
     "text": [
      "TF Accuracy:  0.6935483870967742\n"
     ]
    }
   ],
   "source": [
    "print('TF Accuracy: ', score)"
   ]
  },
  {
   "cell_type": "markdown",
   "metadata": {
    "colab_type": "text",
    "id": "YuyBMdHbYl7T"
   },
   "source": [
    "## 2.3 SVM"
   ]
  },
  {
   "cell_type": "code",
   "execution_count": 0,
   "metadata": {
    "colab": {},
    "colab_type": "code",
    "id": "q8S6jcfmYl7V"
   },
   "outputs": [],
   "source": [
    "from sklearn.svm import SVC\n",
    "svc = SVC()\n",
    "svc.fit(X_train, y_train)\n",
    "y_pred = svc.predict(X_test)"
   ]
  },
  {
   "cell_type": "code",
   "execution_count": 39,
   "metadata": {
    "colab": {
     "base_uri": "https://localhost:8080/",
     "height": 51
    },
    "colab_type": "code",
    "id": "w70NF150Yl7d",
    "outputId": "dc75a717-7716-4437-c005-eb0f85bf0d42"
   },
   "outputs": [
    {
     "data": {
      "text/plain": [
       "array([0, 0, 0, 0, 0, 0, 0, 0, 0, 0, 0, 0, 0, 0, 0, 0, 0, 0, 0, 0, 0, 0,\n",
       "       0, 0, 0, 0, 0, 0, 0, 0])"
      ]
     },
     "execution_count": 39,
     "metadata": {
      "tags": []
     },
     "output_type": "execute_result"
    }
   ],
   "source": [
    "y_pred[:30]"
   ]
  },
  {
   "cell_type": "code",
   "execution_count": 40,
   "metadata": {
    "colab": {
     "base_uri": "https://localhost:8080/",
     "height": 34
    },
    "colab_type": "code",
    "id": "yoBh5Ya5Yl7s",
    "outputId": "b279e6d0-22a2-454b-ec66-c2aed2f5adc7"
   },
   "outputs": [
    {
     "name": "stdout",
     "output_type": "stream",
     "text": [
      "SVM Accuracy:  0.6989247311827957\n"
     ]
    }
   ],
   "source": [
    "print('SVM Accuracy: ', metrics.accuracy_score(y_test,y_pred))"
   ]
  },
  {
   "cell_type": "markdown",
   "metadata": {
    "colab_type": "text",
    "id": "N7gvJrcaYl8d"
   },
   "source": [
    "## 2.4 Logistic regression"
   ]
  },
  {
   "cell_type": "code",
   "execution_count": 0,
   "metadata": {
    "colab": {},
    "colab_type": "code",
    "id": "jWseMw9zYl8f"
   },
   "outputs": [],
   "source": [
    "from sklearn.linear_model import LogisticRegression\n",
    "\n",
    "logreg = LogisticRegression(C=1e5)\n",
    "logreg.fit(X_train, y_train)\n",
    "y_pred = logreg.predict(X_test)"
   ]
  },
  {
   "cell_type": "code",
   "execution_count": 42,
   "metadata": {
    "colab": {
     "base_uri": "https://localhost:8080/",
     "height": 170
    },
    "colab_type": "code",
    "id": "tZ3Ow5bnYl87",
    "outputId": "4c552475-4a02-4053-9052-0510ad23aac6"
   },
   "outputs": [
    {
     "data": {
      "text/plain": [
       "array([0, 0, 0, 0, 0, 0, 0, 0, 0, 0, 0, 0, 0, 0, 0, 0, 0, 0, 0, 0, 0, 0,\n",
       "       0, 0, 0, 0, 0, 0, 0, 0, 0, 0, 0, 0, 0, 0, 0, 0, 0, 0, 0, 0, 0, 0,\n",
       "       0, 0, 0, 0, 0, 0, 0, 0, 0, 0, 0, 0, 0, 0, 0, 0, 0, 0, 0, 0, 0, 1,\n",
       "       0, 0, 0, 0, 0, 0, 0, 0, 0, 0, 0, 0, 0, 0, 0, 0, 0, 0, 0, 0, 0, 0,\n",
       "       0, 0, 0, 0, 0, 0, 0, 0, 0, 0, 0, 0, 0, 0, 0, 0, 0, 0, 0, 0, 0, 0,\n",
       "       0, 0, 0, 0, 0, 0, 0, 0, 0, 0, 0, 0, 0, 0, 0, 0, 0, 0, 0, 0, 0, 0,\n",
       "       0, 0, 0, 0, 0, 0, 0, 0, 0, 0, 0, 0, 0, 0, 0, 0, 0, 0, 0, 0, 0, 0,\n",
       "       0, 0, 0, 0, 0, 0, 0, 0, 0, 0, 0, 1, 0, 0, 0, 0, 0, 0, 0, 0, 1, 0,\n",
       "       0, 0, 0, 0, 0, 0, 0, 0, 0, 0])"
      ]
     },
     "execution_count": 42,
     "metadata": {
      "tags": []
     },
     "output_type": "execute_result"
    }
   ],
   "source": [
    "y_pred"
   ]
  },
  {
   "cell_type": "code",
   "execution_count": 43,
   "metadata": {
    "colab": {
     "base_uri": "https://localhost:8080/",
     "height": 34
    },
    "colab_type": "code",
    "id": "kzxRdJumYl9C",
    "outputId": "ec911abe-e62d-4312-9a7c-07ccdc156845"
   },
   "outputs": [
    {
     "name": "stdout",
     "output_type": "stream",
     "text": [
      "Log Regression Accuracy:  0.6935483870967742\n"
     ]
    }
   ],
   "source": [
    "print('Log Regression Accuracy: ', metrics.accuracy_score(y_test,y_pred))"
   ]
  },
  {
   "cell_type": "markdown",
   "metadata": {
    "colab_type": "text",
    "id": "GzHQRifbYl9S"
   },
   "source": [
    "# 3. Summary\n",
    "## Accuracies obtained by different models \n",
    " - Manual NN: 49.46236559139785 %\n",
    " - TF Accuracy:  69.89247311827957 %\n",
    " - SVM Accuracy:  69.89247311827957 %\n",
    " - Log Regression Accuracy:  69.35483870967742 %\n",
    " \n",
    " \n",
    " ## These Accuray values can be fairly increased if more (clean) data is fed into the models"
   ]
  },
  {
   "cell_type": "code",
   "execution_count": 0,
   "metadata": {
    "colab": {},
    "colab_type": "code",
    "id": "Xxo1Wh_DEaLM"
   },
   "outputs": [],
   "source": []
  }
 ],
 "metadata": {
  "accelerator": "GPU",
  "colab": {
   "collapsed_sections": [
    "5lpibbIrYl2y",
    "y_I3pUgoYl5s"
   ],
   "name": "Scrap_prediction_sklearn.ipynb",
   "provenance": [],
   "version": "0.3.2"
  },
  "kernelspec": {
   "display_name": "Python 2",
   "language": "python",
   "name": "python2"
  },
  "language_info": {
   "codemirror_mode": {
    "name": "ipython",
    "version": 2
   },
   "file_extension": ".py",
   "mimetype": "text/x-python",
   "name": "python",
   "nbconvert_exporter": "python",
   "pygments_lexer": "ipython2",
   "version": "2.7.15"
  }
 },
 "nbformat": 4,
 "nbformat_minor": 1
}
